{
 "cells": [
  {
   "cell_type": "markdown",
   "metadata": {},
   "source": [
    "# Notebook to investigate the concentrations of HexCer and Cer when using only multi-point external standards for quantification\n",
    "\n",
    "Literature suggests that HexCer and Cer represent a reasonable portion of the lipid content, and that HexCer accounts for more of the lipid content than Cer. Our results using the Lipidomics workflow suggested differently. To investigate this further, the concentrations of the different lipid classes were 'manually' probed, using external multi-point standards for the quantification of the different lipids. \n",
    "\n",
    "#### Notes about using one-point external standard quantification\n",
    " - \"Analyte_HexCer t36:1\" invalid due to QC Area\n",
    " - Picked standards to use according to primarily tail length, further details are under each heading"
   ]
  },
  {
   "cell_type": "code",
   "execution_count": 1,
   "metadata": {
    "execution": {
     "iopub.execute_input": "2023-08-23T14:49:04.285315Z",
     "iopub.status.busy": "2023-08-23T14:49:04.284794Z",
     "iopub.status.idle": "2023-08-23T14:49:05.523021Z",
     "shell.execute_reply": "2023-08-23T14:49:05.522381Z"
    }
   },
   "outputs": [],
   "source": [
    "import pandas as pd\n",
    "import numpy as np\n",
    "import matplotlib.pyplot as plt\n",
    "from DataProcessingFuncs import *"
   ]
  },
  {
   "cell_type": "code",
   "execution_count": 2,
   "metadata": {
    "execution": {
     "iopub.execute_input": "2023-08-23T14:49:05.525596Z",
     "iopub.status.busy": "2023-08-23T14:49:05.525126Z",
     "iopub.status.idle": "2023-08-23T14:49:05.531429Z",
     "shell.execute_reply": "2023-08-23T14:49:05.531044Z"
    }
   },
   "outputs": [],
   "source": [
    "def fitAssesPoly(x_data, y_data, polynomialOrder=1):\n",
    "\n",
    "    # curve fit the test data\n",
    "    fittedParameters = np.polyfit(x_data, y_data, polynomialOrder)\n",
    "    print('Fitted Parameters:', fittedParameters)\n",
    "\n",
    "    modelPredictions = np.polyval(fittedParameters, x_data)\n",
    "    absError = modelPredictions - y_data\n",
    "\n",
    "    SE = np.square(absError) # squared errors\n",
    "    MSE = np.mean(SE) # mean squared errors\n",
    "    RMSE = np.sqrt(MSE) # Root Mean Squared Error, RMSE\n",
    "    Rsquared = 1.0 - (np.var(absError) / np.var(y_data))\n",
    "    print('RMSE:', RMSE)\n",
    "    print('R-squared:', Rsquared)\n",
    "\n",
    "    print()\n",
    "    \n",
    "    return fittedParameters\n",
    "    \n",
    "def ModelAndScatterPlot(graphWidth, graphHeight, x_data, y_data):\n",
    "    f = plt.figure(figsize=(graphWidth/100.0, graphHeight/100.0), dpi=100)\n",
    "    axes = f.add_subplot(111)\n",
    "\n",
    "    # first the raw data as a scatter plot\n",
    "    axes.plot(x_data, y_data,  'D')\n",
    "\n",
    "    # create data for the fitted equation plot\n",
    "    xModel = np.linspace(min(x_data), max(x_data))\n",
    "    yModel = np.polyval(fittedParameters, xModel)\n",
    "\n",
    "    # now the model as a line plot\n",
    "    axes.plot(xModel, yModel)\n",
    "    axes.set_xlabel('Area') # X axis data label\n",
    "    axes.set_ylabel('Conc') # Y axis data label\n",
    "\n",
    "    plt.show()\n",
    "    plt.close('all') # clean up after using pyplot"
   ]
  },
  {
   "cell_type": "markdown",
   "metadata": {},
   "source": [
    "## 1. Data Import and cleaning"
   ]
  },
  {
   "cell_type": "code",
   "execution_count": 3,
   "metadata": {
    "execution": {
     "iopub.execute_input": "2023-08-23T14:49:05.533119Z",
     "iopub.status.busy": "2023-08-23T14:49:05.532989Z",
     "iopub.status.idle": "2023-08-23T14:49:05.543132Z",
     "shell.execute_reply": "2023-08-23T14:49:05.542677Z"
    }
   },
   "outputs": [],
   "source": [
    "# Import cell mass csv, generate a new column with columns 0 and 1 concatenated (e.g. C034_SS)\n",
    "cellmass = pd.read_csv(\"../data/biomass/LipidCellMass.csv\")\n",
    "cellmass.loc[:,\"Name\"] = cellmass.iloc[:,0] + \"_\" + cellmass.iloc[:,1]\n",
    "for i, name in enumerate(cellmass.Name.str.split(\"_\")):\n",
    "    if name[0] in ['C034',\"C035\", \"C036\"]:\n",
    "        cellmass.loc[i, \"Name\"] = name[0] + \"_C0.1\" \n",
    "        \n",
    "cellmass.set_index(\"Name\", inplace=True)\n",
    "\n",
    "CerHexdf = pd.read_csv(\"../data/biomass/static/CerHexCer.csv\", header=None, index_col=0)\n",
    "CerHexdict = CerHexdf.iloc[:,0].to_dict()"
   ]
  },
  {
   "cell_type": "code",
   "execution_count": 4,
   "metadata": {
    "execution": {
     "iopub.execute_input": "2023-08-23T14:49:05.545077Z",
     "iopub.status.busy": "2023-08-23T14:49:05.544665Z",
     "iopub.status.idle": "2023-08-23T14:49:05.611511Z",
     "shell.execute_reply": "2023-08-23T14:49:05.610927Z"
    }
   },
   "outputs": [],
   "source": [
    "# Import measured total lipids result\n",
    "TotLip = pd.read_csv(\"../data/biomass/LipidAnalysisResults.csv\", index_col=[0])\n",
    "\n",
    "\n",
    "\n",
    "# change formatting of CO23 to C023. Remove extra unneccesary rows from type and subset samples (not blank, ESTD, or QC)\n",
    "TotLip.FileName = TotLip.FileName.str.replace('CO',\"C0\")\n",
    "TotLip = TotLip[TotLip.Type.isin([\"area\",\"conc\"])]\n",
    "TotLip.iloc[:,2:]=TotLip.iloc[:,2:].astype(float)\n",
    "samples = TotLip[~TotLip.FileName.str.contains(\"ESTD|Blank|QC\")]\n",
    "two_cols = samples.FileName.str.split(\"_pos_\",expand=True)\n",
    "\n",
    "# Some rows don't have a sampling point in the file name. Add one for compatability with cellmass\n",
    "for i, row in two_cols.iterrows():\n",
    "    if \"_\" not in row[0]:\n",
    "        TotLip.loc[i,\"FileName\"] = row[0] + \"_C0.1_\" + row[1]\n",
    "    else:\n",
    "        TotLip.loc[i,\"FileName\"] = row[0] + \"_\" + row[1]\n",
    "TotLip.set_index([\"Type\", \"FileName\"], inplace=True)\n",
    "\n",
    "# Subset samples\n",
    "mask = TotLip.index.get_level_values('FileName').str.contains(\"ESTD|Blank|QC\")\n",
    "samples = TotLip[~mask].copy()\n",
    "\n",
    "# Subset HexCer and Cer ESTDs\n",
    "estdcer = TotLip.columns.str.contains(r'(?=.*_Cer)(?=.*ESTD)',regex=True)\n",
    "estdhexcer = TotLip.columns.str.contains(r'(?=.*[a-zA-Z]Cer)(?=.*ESTD)',regex=True)\n",
    "estd_cols = TotLip.columns[estdcer+estdhexcer]\n",
    "estd= TotLip.loc[:,estd_cols]\n",
    "estd.reset_index(inplace=True)\n",
    "\n",
    "# Extract the area rows for linear regression. Extract ESTD samples\n",
    "estd = estd[estd.Type == \"area\"]\n",
    "estd = estd[estd.FileName.str.contains(\"ESTD\")]\n",
    "estd_samples = estd.FileName.to_numpy()\n",
    "\n",
    "estd[\"Conc\"] = estd.FileName.str.extract('pos_(\\d+)').astype(int)\n",
    "estd.set_index(\"FileName\",inplace=True)\n",
    "conc_vec = estd[\"Conc\"].to_numpy()\n",
    "\n",
    "\n"
   ]
  },
  {
   "cell_type": "markdown",
   "metadata": {},
   "source": [
    "## Calculating concentrations\n",
    "\n",
    "### 1. HexosylCeramides\n",
    "- \"Analyte_HexCer t36:1\" invalid due to QC Area. Used HexCer d34:1 for quantifying HexCer t34:1 and t36:2.\n",
    "\n",
    "- HexCer t36:1 dropped following manual inspection and recognition of a strong signal in the light fraction of the ESTD. Shouldn't be present.\n",
    "- HexCer t44:2 dropped due to very low signal\n",
    "\n",
    "### 2. Ceramides\n",
    "- Using Cer d36:1 as the ESTD - used for concentration calculation for Cer d36:2. The following were dropped due to the very low areas reported Cer.. t36:0, t36:1, t36:2\n",
    "- Using Cer d42:0 as the ESTD - used for concentration calculation for Cer.. e42:0 and e44:0\n",
    "- Using Cer t42:1 as the ESTD - used for concentration calculation for Cer.. t42:0 and t44:0"
   ]
  },
  {
   "cell_type": "code",
   "execution_count": 5,
   "metadata": {
    "execution": {
     "iopub.execute_input": "2023-08-23T14:49:05.614083Z",
     "iopub.status.busy": "2023-08-23T14:49:05.613675Z",
     "iopub.status.idle": "2023-08-23T14:49:06.055929Z",
     "shell.execute_reply": "2023-08-23T14:49:06.055309Z"
    }
   },
   "outputs": [
    {
     "name": "stdout",
     "output_type": "stream",
     "text": [
      "ESTD_HexCer d34:1\n",
      "Fitted Parameters: [6.18050120e-05 1.46294996e+01]\n",
      "RMSE: 5.210008696705947\n",
      "R-squared: 0.9994257476531587\n",
      "\n"
     ]
    },
    {
     "data": {
      "image/png": "[encoded data removed]",
      "text/plain": [
       "<Figure size 400x250 with 1 Axes>"
      ]
     },
     "metadata": {
      "needs_background": "light"
     },
     "output_type": "display_data"
    },
    {
     "name": "stdout",
     "output_type": "stream",
     "text": [
      "ESTD_Cer d36:1\n",
      "Fitted Parameters: [5.44939543e-05 5.33731011e+00]\n",
      "RMSE: 3.9968228046908507\n",
      "R-squared: 0.9996620474937015\n",
      "\n"
     ]
    },
    {
     "data": {
      "image/png": "[encoded data removed]",
      "text/plain": [
       "<Figure size 400x250 with 1 Axes>"
      ]
     },
     "metadata": {
      "needs_background": "light"
     },
     "output_type": "display_data"
    },
    {
     "name": "stdout",
     "output_type": "stream",
     "text": [
      "ESTD_Cer d42:0\n",
      "Fitted Parameters: [3.75441930e-05 9.34547825e+00]\n",
      "RMSE: 11.621361031748124\n",
      "R-squared: 0.9971428050830573\n",
      "\n"
     ]
    },
    {
     "data": {
      "image/png": "[encoded data removed]",
      "text/plain": [
       "<Figure size 400x250 with 1 Axes>"
      ]
     },
     "metadata": {
      "needs_background": "light"
     },
     "output_type": "display_data"
    },
    {
     "name": "stdout",
     "output_type": "stream",
     "text": [
      "ESTD_Cer t42:1\n",
      "Fitted Parameters: [9.29488605e-05 8.36814106e+00]\n",
      "RMSE: 11.95391591552477\n",
      "R-squared: 0.9969769434200093\n",
      "\n"
     ]
    },
    {
     "data": {
      "image/png": "[encoded data removed]",
      "text/plain": [
       "<Figure size 400x250 with 1 Axes>"
      ]
     },
     "metadata": {
      "needs_background": "light"
     },
     "output_type": "display_data"
    }
   ],
   "source": [
    "samples = TotLip[~mask].copy()\n",
    "# Create Dataframe to hold all calcaualted concs/compositions\n",
    "CalcCer = pd.DataFrame(index=samples.reset_index().FileName.unique())\n",
    "\n",
    "graphWidth = 400\n",
    "graphHeight = 250\n",
    "\n",
    "ESTDs_to_use = {\"Analyte_HexCer t34:2\":\"ESTD_HexCer d34:1\",\n",
    "                \"Analyte_HexCer t36:2\":\"ESTD_HexCer d34:1\", \n",
    "                \"Analyte_Cer d36:2\":\"ESTD_Cer d36:1\",\n",
    "                \"Analyte_Cer e42:0\":\"ESTD_Cer d42:0\",\n",
    "                \"Analyte_Cer e44:0\":\"ESTD_Cer d42:0\",\n",
    "                \"Analyte_Cer t42:0\":\"ESTD_Cer t42:1\", \n",
    "                \"Analyte_Cer t44:0\":\"ESTD_Cer t42:1\"}\n",
    "\n",
    "fitted_parameters = {}\n",
    "for standard in [\"ESTD_HexCer d34:1\",\"ESTD_Cer d36:1\",\"ESTD_Cer d42:0\",\"ESTD_Cer t42:1\"]:\n",
    "    area_vec = estd.loc[estd_samples,standard].to_numpy()\n",
    "    nan_mask = np.isnan(area_vec)\n",
    "    # Know the values are small, so use the smaller concentrations and test linearity\n",
    "    x_data=area_vec[[i for i,x in enumerate(conc_vec) if x in[10,50,100,500]]]\n",
    "    y_data=conc_vec[[i for i,x in enumerate(conc_vec) if x in[10,50,100,500]]]\n",
    "    area_vec = area_vec\n",
    "    print(standard)\n",
    "    \n",
    "    fittedParameters = fitAssesPoly(x_data, y_data) # defaults to PolyOrder 1 = example straight line\n",
    "\n",
    "    ModelAndScatterPlot(graphWidth, graphHeight, x_data, y_data)\n",
    "    \n",
    "    fitted_parameters[standard] = fittedParameters\n",
    "\n",
    "# ESTDs_to_use = {k:fitted_parameters for k,v in ESTDs_to_use.items()}\n",
    "\n",
    "sample_id = [x[0] for x in samples.index.get_level_values(\"FileName\").str.rsplit(\"_\",1)]\n",
    "samples.loc[:,\"YDM\"] = cellmass.loc[sample_id,\"YDM [gL-1]\"].to_numpy()\n",
    "\n",
    "samples.reset_index(inplace=True)\n",
    "samples = samples[samples.Type == \"area\"]\n",
    "samples.drop(columns=\"Type\", inplace=True)\n",
    "\n",
    "# # # \"Analyte_HexCer t36:1\" invalid due to QC Area, t44:2 due to very low are values\n",
    "samples = samples[~samples.FileName.str.contains(\"ESTD|Blank|QC\")]\n",
    "ydm = samples.loc[:,\"YDM\"].to_numpy()\n",
    "samples.set_index(\"FileName\",inplace=True)\n",
    "samples = samples.loc[:,[\"Analyte_HexCer t34:2\",\"Analyte_HexCer t36:2\", \n",
    "                         \"Analyte_Cer d36:2\",\n",
    "                         \"Analyte_Cer e42:0\", \"Analyte_Cer e44:0\",\n",
    "                         \"Analyte_Cer t42:0\", \"Analyte_Cer t44:0\"]]\n",
    "\n",
    "for name, col in samples.iteritems():\n",
    "    \n",
    "    conc = np.polyval(fitted_parameters[ESTDs_to_use[name]], col.to_numpy())\n",
    "    \n",
    "    CalcCer.loc[:,f\"Area_{name}\"] = col\n",
    "    CalcCer.loc[:,f\"Conc_{name}\"] = pd.Series(data=conc, index=col.index)\n",
    "    \n",
    "    formula = CerHexdict.get(name.split(\"_\")[1])\n",
    "    mass = metabolite(formula=formula).mass\n",
    "\n",
    "    CalcCer.loc[:,f\"Comp_mg/mg_{name}\"] = pd.Series(data=(conc*2e-4*(2.2/0.2)*(mass/1e6))/ydm, index=col.index)\n"
   ]
  },
  {
   "cell_type": "code",
   "execution_count": 6,
   "metadata": {
    "execution": {
     "iopub.execute_input": "2023-08-23T14:49:06.058231Z",
     "iopub.status.busy": "2023-08-23T14:49:06.057881Z",
     "iopub.status.idle": "2023-08-23T14:49:06.073458Z",
     "shell.execute_reply": "2023-08-23T14:49:06.072928Z"
    }
   },
   "outputs": [],
   "source": [
    "# Subset to give just the composition columns, then strip the Analyte tag \n",
    "comp_cer = CalcCer.loc[:,CalcCer.columns.str.contains(\"Comp\")]\n",
    "comp_cer.columns = comp_cer.columns.str.replace(\".*Analyte_\",\"\", regex=True)\n",
    "\n",
    "# Split the repeats for each sample point, then take the mean of the two repeats (pos)\n",
    "comp_cer = comp_cer.set_index(comp_cer.index.str.rsplit(\"_\",1, expand=True)).reset_index()\n",
    "comp_cer = comp_cer.groupby(\"level_0\").mean().T.reset_index()\n",
    "\n",
    "# Generate a column with the lipid class for each species\n",
    "comp_cer.loc[:,\"Class\"] = comp_cer.loc[:,\"index\"].str.split(\" \",expand=True).loc[:,0]\n",
    "comp_cer = comp_cer.rename(columns={\"index\":\"Lipid\"})\n",
    "comp_cer.set_index(\"Lipid\", inplace=True)\n",
    "\n",
    "sep_cer = comp_cer.drop(columns=\"Class\").T\n",
    "\n",
    "\n",
    "# Split the sample ID into cultivation and smapling poitn info\n",
    "sep_cer.index = sep_cer.index.str.split(\"_\", expand=True)\n",
    "sep_cer = sep_cer.reset_index().rename(columns={\"level_0\":\"cultivation\",\n",
    "                                                  \"level_1\":\"sample point\"})\n",
    "# groupby sample point, then aggregate using mean and sd on the HexCer and Cer columns\n",
    "# sep_cer.groupby([\"cultivation\", \"sample point\"]).agg(['mean','std'])\n"
   ]
  },
  {
   "cell_type": "code",
   "execution_count": 7,
   "metadata": {
    "execution": {
     "iopub.execute_input": "2023-08-23T14:49:06.075456Z",
     "iopub.status.busy": "2023-08-23T14:49:06.075032Z",
     "iopub.status.idle": "2023-08-23T14:49:06.086755Z",
     "shell.execute_reply": "2023-08-23T14:49:06.086213Z"
    }
   },
   "outputs": [],
   "source": [
    "total_cer = pd.DataFrame(comp_cer.groupby([\"Class\"]).sum().unstack())\n",
    "total_cer = total_cer.reset_index().rename(columns={\"level_0\":\"Sample\",\n",
    "                                       \"Class\":\"Family\", 0:\"Value\"})\n",
    "\n",
    "total_cer[\"Sample Point\"] = total_cer.Sample.str.split(\"_\",1, expand=True)[1]\n",
    "total_cer[\"Cultivation Group\"] = \"SC\"\n",
    "total_cer.loc[total_cer.Sample.str.contains(\"C034|C035|C036\"), \"Cultivation Group\"] = \"C0.1\"\n",
    "total_cer.to_csv(\"../data/biomass/measured/ManualCer.csv\")"
   ]
  },
  {
   "cell_type": "code",
   "execution_count": null,
   "metadata": {},
   "outputs": [],
   "source": []
  }
 ],
 "metadata": {
  "kernelspec": {
   "display_name": "MeMo 3.7",
   "language": "python",
   "name": "memo37"
  },
  "language_info": {
   "codemirror_mode": {
    "name": "ipython",
    "version": 3
   },
   "file_extension": ".py",
   "mimetype": "text/x-python",
   "name": "python",
   "nbconvert_exporter": "python",
   "pygments_lexer": "ipython3",
   "version": "3.7.11"
  }
 },
 "nbformat": 4,
 "nbformat_minor": 4
}
