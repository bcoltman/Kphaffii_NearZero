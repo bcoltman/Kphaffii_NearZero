{
 "cells": [
  {
   "cell_type": "code",
   "execution_count": 1,
   "id": "4a2530ee-870c-4410-a71d-43c1c6e63ba8",
   "metadata": {
    "execution": {
     "iopub.execute_input": "2023-09-01T16:02:21.320492Z",
     "iopub.status.busy": "2023-09-01T16:02:21.320220Z",
     "iopub.status.idle": "2023-09-01T16:02:23.243660Z",
     "shell.execute_reply": "2023-09-01T16:02:23.242890Z"
    },
    "tags": []
   },
   "outputs": [],
   "source": [
    "import pandas as pd\n",
    "import cobra\n",
    "import urllib\n",
    "\n",
    "from cobra import Metabolite, Reaction\n",
    "\n",
    "cobra_config = cobra.Configuration()\n",
    "cobra_config.solver = \"cplex\"\n",
    "# cobra_config.tolerance = 1e-6"
   ]
  },
  {
   "cell_type": "code",
   "execution_count": 2,
   "id": "fbb5592e-0b15-43ee-b4ec-3c89f8762443",
   "metadata": {
    "execution": {
     "iopub.execute_input": "2023-09-01T16:02:23.246484Z",
     "iopub.status.busy": "2023-09-01T16:02:23.246330Z",
     "iopub.status.idle": "2023-09-01T16:02:27.909936Z",
     "shell.execute_reply": "2023-09-01T16:02:27.909195Z"
    },
    "tags": []
   },
   "outputs": [
    {
     "name": "stderr",
     "output_type": "stream",
     "text": [
      "COBRA warnings in validation, check error log for details.\n"
     ]
    }
   ],
   "source": [
    "url = \"https://www.ebi.ac.uk/biomodels/model/download/MODEL1612130000.2?filename=MODEL1612130000_url.xml\"\n",
    "urllib.request.urlretrieve(url, f\"../data/ebi_imt1026v3.xml\") \n",
    "pichia, m_warnings = cobra.io.validate_sbml_model(f\"../data/ebi_imt1026v3.xml\")\n"
   ]
  },
  {
   "cell_type": "code",
   "execution_count": 3,
   "id": "992829d5-b26a-40f1-badd-de945933b223",
   "metadata": {
    "execution": {
     "iopub.execute_input": "2023-09-01T16:02:27.912340Z",
     "iopub.status.busy": "2023-09-01T16:02:27.912188Z",
     "iopub.status.idle": "2023-09-01T16:02:27.928879Z",
     "shell.execute_reply": "2023-09-01T16:02:27.928391Z"
    },
    "pycharm": {
     "is_executing": false
    },
    "tags": []
   },
   "outputs": [],
   "source": [
    "rxns_pp_to_constrain = [\n",
    "    'ATPM',\n",
    "    'Ex_glc_D',\n",
    "    'Ex_glyc',\n",
    "    'Ex_tre',\n",
    "    'LIPIDS_glyc',      # set inactive for glucose growth\n",
    "    'PROTEINS_glyc',    #\n",
    "    'STEROLS_glyc',     #\n",
    "    'BIOMASS_glyc',     #\n",
    "    'LIPIDS_meoh',      #\n",
    "    'PROTEINS_meoh',    #\n",
    "    'STEROLS_meoh',     #\n",
    "    'BIOMASS_meoh',     #\n",
    "    'STEROLS',          # activate for glucose growth\n",
    "    'LIPIDS',           #\n",
    "    'PROTEINS',         #\n",
    "    'BIOMASS',\n",
    "    \"PHOSPHOLIPIDS\",\n",
    "    \"PFK_3\",\n",
    "    \"GLUK\", # Block because hexo and glucokianse are the same, but harder to normalise solutions\n",
    "    \"G6PI\",# Block because hexo and glucokianse are the same, but harder to normalise solutions\n",
    "    \"Ex_fab\", \n",
    "    \"G6PI3\",# Block because hexo and glucokianse are the same, but harder to normalise solutions\n",
    "    \"RNA\",\n",
    "    \"DNA\", \n",
    "    \"COF\",\n",
    "    \"CARBOHYDRATES\", \n",
    "    \"ATPS3v\",\n",
    "    \"Ex_cit\", \"Ex_etoh\",\"Ex_abt_D\", \"Ex_abt\",\"Ex_ac\",\"Ex_acald\",\"Ex_pyr\", \"SUCD1m\", \"PGI\"]\n",
    "\n",
    "for rxn in rxns_pp_to_constrain:\n",
    "    pichia.reactions.get_by_id(rxn).lower_bound = 0\n",
    "    pichia.reactions.get_by_id(rxn).upper_bound = 0\n",
    "    \n",
    "    if rxn in ['Ex_glc_D']:\n",
    "        pichia.reactions.get_by_id(rxn).lower_bound = -2.5    #-0.33 original constrianed value\n",
    "        pichia.reactions.get_by_id(rxn).upper_bound = 0           \n",
    "        \n",
    "    if rxn in [\"PFK_3\"]:\n",
    "        pichia.reactions.get_by_id(rxn).bounds = (-1000, 0)\n",
    "    if rxn in [\"PGI\"]:\n",
    "        pichia.reactions.get_by_id(rxn).bounds = (0,1000)\n",
    "    if rxn in ['ATPM']:\n",
    "        pichia.reactions.get_by_id(rxn).upper_bound = 1000 \n",
    "        pichia.reactions.get_by_id(rxn).lower_bound = 1.35\n"
   ]
  },
  {
   "cell_type": "markdown",
   "id": "40bfbbf8-a2af-438e-9c68-66e67e5690c0",
   "metadata": {
    "pycharm": {
     "name": "#%% md\n"
    }
   },
   "source": [
    "# 4. Add reactions to produce VHH as a model protein\n",
    "\n",
    "- Protein Translation"
   ]
  },
  {
   "cell_type": "code",
   "execution_count": 4,
   "id": "ebff762d-fed6-47fb-8af4-1933da521a90",
   "metadata": {
    "execution": {
     "iopub.execute_input": "2023-09-01T16:02:27.930671Z",
     "iopub.status.busy": "2023-09-01T16:02:27.930524Z",
     "iopub.status.idle": "2023-09-01T16:02:27.942605Z",
     "shell.execute_reply": "2023-09-01T16:02:27.942095Z"
    },
    "pycharm": {
     "name": "#%%\n"
    },
    "tags": []
   },
   "outputs": [
    {
     "name": "stderr",
     "output_type": "stream",
     "text": [
      "/home/users/bcoltman/.conda/envs/memo3.7/lib/python3.7/site-packages/cobra/core/group.py:91: UserWarning: need to pass in a list\n",
      "  warn(\"need to pass in a list\")\n"
     ]
    }
   ],
   "source": [
    "reaction = Reaction('rvHHVAA')\n",
    "pichia.add_reactions([reaction])\n",
    "reaction.name = 'Translation of vHHV '\n",
    "reaction.subsystem = 'Recombinant protein production'\n",
    "reaction.lower_bound = 0 \n",
    "reaction.upper_bound = 1000\n",
    "\n",
    "vHHVAA_c = Metabolite(\n",
    "    'vHHV_c',\n",
    "    formula='C1639H2523N479O541S10', \n",
    "    name='Recombinant vHHV - amino acids',\n",
    "    compartment='c'\n",
    "    )\n",
    "pichia.add_metabolites([vHHVAA_c])\n",
    "rxn_compounds = [\n",
    "    'h2o_c','atp_c','h_c','pi_c','adp_c','ala_L_c','arg_L_c','asn_L_c','asp_L_c','cys_L_c','gln_L_c','glu_L_c','gly_c', 'his_L_c',\n",
    "    'ile_L_c','leu_L_c','lys_L_c','met_L_c','orn_c','phe_L_c','pro_L_c','ser_L_c','thr_L_c','trp_L_c','tyr_L_c','val_L_c','vHHV_c'\n",
    "    ]\n",
    "rxn_coefficients = [\n",
    "    -31.524, -41.077, 41.077, 41.077, 41.077, -0.871, -0.528, -0.369, -0.449, -0.106, -0.422, -0.475, -1.425, -0.185,\n",
    "    -0.238, -0.554, -0.211, -0.158, -0.000, -0.369, -0.317, -1.108, -0.607, -0.132, -0.343, -0.686, 1\n",
    "    ]\n",
    "reaction.add_metabolites(dict(zip(rxn_compounds, rxn_coefficients)))\n",
    "pichia.groups.get_by_id(\"Recombinant protein production\").add_members(pichia.reactions.rvHHVAA)"
   ]
  },
  {
   "cell_type": "markdown",
   "id": "8cf1f806-ae0f-4dc1-81d5-27afdafcc80a",
   "metadata": {},
   "source": [
    "- Accumulation of vHHV "
   ]
  },
  {
   "cell_type": "code",
   "execution_count": 5,
   "id": "b235c084-925a-404d-aea4-06d3bf9277e2",
   "metadata": {
    "execution": {
     "iopub.execute_input": "2023-09-01T16:02:27.944322Z",
     "iopub.status.busy": "2023-09-01T16:02:27.944197Z",
     "iopub.status.idle": "2023-09-01T16:02:27.949114Z",
     "shell.execute_reply": "2023-09-01T16:02:27.948627Z"
    },
    "pycharm": {
     "name": "#%%\n"
    },
    "tags": []
   },
   "outputs": [],
   "source": [
    "reaction = Reaction('Ex_vHHV')\n",
    "pichia.add_reactions([reaction])\n",
    "reaction.name = 'Accumulation of vHHV '\n",
    "reaction.subsystem = 'Recombinant protein production'\n",
    "reaction.lower_bound = 0 \n",
    "reaction.upper_bound = 1000\n",
    "\n",
    "rxn_compounds = ['vHHV_c']                  \n",
    "rxn_coefficients = [-1]\n",
    "\n",
    "reaction.add_metabolites(dict(zip(rxn_compounds, rxn_coefficients)))\n",
    "pichia.groups.get_by_id(\"Exchange reaction\").add_members(pichia.reactions.Ex_vHHV)"
   ]
  },
  {
   "cell_type": "markdown",
   "id": "4a5b9974-85ae-4c49-ba75-af914b3c8547",
   "metadata": {},
   "source": [
    "Have to allow for phosphatidylgycerol transport to cytosol for biomass reaction. Not defined in the original model as not quantified/included in BIOMASS"
   ]
  },
  {
   "cell_type": "code",
   "execution_count": 6,
   "id": "a479ffb9-f08d-44de-a780-a389dbe12539",
   "metadata": {
    "execution": {
     "iopub.execute_input": "2023-09-01T16:02:27.951196Z",
     "iopub.status.busy": "2023-09-01T16:02:27.950760Z",
     "iopub.status.idle": "2023-09-01T16:02:27.955511Z",
     "shell.execute_reply": "2023-09-01T16:02:27.955001Z"
    },
    "tags": []
   },
   "outputs": [],
   "source": [
    "reaction = Reaction(\"pgSCtm\")\n",
    "pichia.add_reactions([reaction])\n",
    "reaction.name = 'Phosphatidylglycerol transport to cytosol for phospholipid composition'\n",
    "reaction.subsystem = 'Transport, Mitochondrial'\n",
    "reaction.lower_bound = -1000  # This is the default\n",
    "reaction.upper_bound = 1000  # This is the default\n",
    "reaction.add_metabolites({\"pg_SC_m\":-1, \n",
    "                          \"pg_SC_c\":1})\n",
    "pichia.groups.get_by_id(\"Transport, Mitochondrial\").add_members(pichia.reactions.pgSCtm)"
   ]
  },
  {
   "cell_type": "markdown",
   "id": "83a9eda9-eec8-4a84-aa41-c154e7d87932",
   "metadata": {},
   "source": [
    "Add sink reaction for glycerol"
   ]
  },
  {
   "cell_type": "code",
   "execution_count": 7,
   "id": "c49c0244-40da-4f7a-8ccc-bd4dac687cf7",
   "metadata": {
    "execution": {
     "iopub.execute_input": "2023-09-01T16:02:27.957289Z",
     "iopub.status.busy": "2023-09-01T16:02:27.957161Z",
     "iopub.status.idle": "2023-09-01T16:02:27.961689Z",
     "shell.execute_reply": "2023-09-01T16:02:27.961191Z"
    },
    "tags": []
   },
   "outputs": [],
   "source": [
    "sink_name = \"SK_glycogen_c\"\n",
    "metabolite = pichia.metabolites.get_by_id(\"glycogen_c\")\n",
    "reaction = Reaction(sink_name)\n",
    "pichia.add_reactions([reaction])\n",
    "reaction.name = f\"{metabolite.name} Cytosolic Sink for storage 'Consumption'\"\n",
    "reaction.subsystem = \"Sink, Cytosolic\"\n",
    "reaction.bounds = (0, 0)\n",
    "reaction.add_metabolites({metabolite:-1})\n",
    "pichia.groups.get_by_id(\"Other\").add_members(pichia.reactions.SK_glycogen_c)"
   ]
  },
  {
   "cell_type": "markdown",
   "id": "f33e4f58-9699-4f03-a3a6-dabd55e61af3",
   "metadata": {},
   "source": [
    "Unnecessary, but defined in Yeast8 model and not in imt1026. Instead, had a weird trapped futile ATP in the vacuole. Blocked and redefined this instead"
   ]
  },
  {
   "cell_type": "code",
   "execution_count": 8,
   "id": "79625d5f-1815-4910-96b6-0af4bb26521e",
   "metadata": {
    "execution": {
     "iopub.execute_input": "2023-09-01T16:02:27.963509Z",
     "iopub.status.busy": "2023-09-01T16:02:27.963314Z",
     "iopub.status.idle": "2023-09-01T16:02:27.968772Z",
     "shell.execute_reply": "2023-09-01T16:02:27.968249Z"
    }
   },
   "outputs": [],
   "source": [
    "reaction = Reaction(\"ATPS_v\")\n",
    "pichia.add_reactions([reaction])\n",
    "reaction.name = 'ATPase, vacuolar'\n",
    "reaction.subsystem = 'Transport, Vacuolar'\n",
    "reaction.lower_bound = 0  # This is the default\n",
    "reaction.upper_bound = 1000  # This is the default\n",
    "reaction.add_metabolites({\"h2o_c\": -1.0, \"atp_c\": -1.0, \"pi_c\": 1.0, \n",
    "                          \"adp_c\": 1.0, \"h_v\": 1.0})\n",
    "pichia.groups.get_by_id(\"Transport, Vacuolar\").add_members(pichia.reactions.ATPS_v)"
   ]
  },
  {
   "cell_type": "markdown",
   "id": "11a16dcc-a460-4800-b5bf-1b245db145f3",
   "metadata": {},
   "source": [
    "#### Define a scaled version of the consensus biomass equation"
   ]
  },
  {
   "cell_type": "code",
   "execution_count": 9,
   "id": "40f80744-11fa-451c-a45d-a20f8863485c",
   "metadata": {
    "execution": {
     "iopub.execute_input": "2023-09-01T16:02:27.970436Z",
     "iopub.status.busy": "2023-09-01T16:02:27.970310Z",
     "iopub.status.idle": "2023-09-01T16:02:27.980719Z",
     "shell.execute_reply": "2023-09-01T16:02:27.980243Z"
    }
   },
   "outputs": [],
   "source": [
    "pichia.reactions.BIOMASS.id = \"Consensus\"\n",
    "scaled_bio = pichia.reactions.Consensus.copy()\n",
    "scaled_bio.id = \"ScaledConsensus\"\n",
    "pichia.add_reactions([scaled_bio])\n",
    "\n",
    "scaled_bio\n",
    "\n",
    "macro_mets = [pichia.metabolites.get_by_id(x) for x in [\"LIPIDS_c\", \"PROTEIN_c\", \"CARBOHYDRATES_c\", \"RNA_c\", \"DNA_c\"]]\n",
    "\n",
    "con_biomass_mets = pichia.reactions.ScaledConsensus.metabolites\n",
    "con_bio_macros = {met: con_biomass_mets[met] for met in macro_mets}\n",
    "total_gg = abs(sum(list(con_bio_macros.values())))\n",
    "updated_con_bio_macros = {k:(v/total_gg)-v for k,v in con_bio_macros.items()}\n",
    "\n",
    "pichia.reactions.ScaledConsensus.add_metabolites(updated_con_bio_macros, combine=True)\n",
    "\n"
   ]
  },
  {
   "cell_type": "code",
   "execution_count": 10,
   "id": "26c0329b-f940-4e7b-972e-62c8d5706944",
   "metadata": {
    "execution": {
     "iopub.execute_input": "2023-09-01T16:02:27.982304Z",
     "iopub.status.busy": "2023-09-01T16:02:27.982182Z",
     "iopub.status.idle": "2023-09-01T16:02:28.799921Z",
     "shell.execute_reply": "2023-09-01T16:02:28.799151Z"
    },
    "tags": []
   },
   "outputs": [],
   "source": [
    "# imt = pichia.copy()\n",
    "cobra.io.write_sbml_model(pichia, \"../results/ModelWithProduction.xml\")"
   ]
  },
  {
   "cell_type": "code",
   "execution_count": 11,
   "id": "c57af891-324b-4d16-aaff-7be5dd9431cc",
   "metadata": {
    "execution": {
     "iopub.execute_input": "2023-09-01T16:02:28.802239Z",
     "iopub.status.busy": "2023-09-01T16:02:28.802087Z",
     "iopub.status.idle": "2023-09-01T16:02:28.873829Z",
     "shell.execute_reply": "2023-09-01T16:02:28.873346Z"
    },
    "tags": []
   },
   "outputs": [
    {
     "data": {
      "text/plain": [
       "0.6041939140946085"
      ]
     },
     "execution_count": 11,
     "metadata": {},
     "output_type": "execute_result"
    }
   ],
   "source": [
    "glucose_mw = 180.156\n",
    "with pichia as temp:\n",
    "    qs = 1\n",
    "    temp.objective = temp.reactions.Ex_vHHV\n",
    "    temp.reactions.Ex_vHHV.bounds = (0,1000)\n",
    "    temp.reactions.Ex_o2.bounds = (-1000,0)\n",
    "    temp.reactions.Ex_co2.bounds = (0,1000)\n",
    "    temp.reactions.Ex_glc_D.bounds = (-qs,-qs)\n",
    "    temp.reactions.ATPM.bounds = (1.44, 1000)\n",
    "    max_vhh = temp.slim_optimize()\n",
    "    max_vhh_glc_yield = (max_vhh/(qs*(glucose_mw/1000)))\n",
    "max_vhh_glc_yield"
   ]
  }
 ],
 "metadata": {
  "kernelspec": {
   "display_name": "MeMo 3.7",
   "language": "python",
   "name": "memo37"
  },
  "language_info": {
   "codemirror_mode": {
    "name": "ipython",
    "version": 3
   },
   "file_extension": ".py",
   "mimetype": "text/x-python",
   "name": "python",
   "nbconvert_exporter": "python",
   "pygments_lexer": "ipython3",
   "version": "3.7.11"
  }
 },
 "nbformat": 4,
 "nbformat_minor": 5
}
