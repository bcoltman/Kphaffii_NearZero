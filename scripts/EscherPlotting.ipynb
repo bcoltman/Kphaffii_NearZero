{
 "cells": [
  {
   "cell_type": "code",
   "execution_count": 1,
   "metadata": {},
   "outputs": [],
   "source": [
    "import escher\n",
    "import numpy as np\n",
    "import pandas as pd\n",
    "import os"
   ]
  },
  {
   "cell_type": "markdown",
   "metadata": {},
   "source": [
    "## Loop through fluxes directory and generate escher maps"
   ]
  },
  {
   "cell_type": "code",
   "execution_count": 2,
   "metadata": {},
   "outputs": [],
   "source": [
    "os.makedirs(\"../results/maps\", exist_ok=True)\n",
    "for filename in os.listdir(\"../results/dataframe/fluxes/for_escher\"):\n",
    "    if not filename.startswith('.'):\n",
    "        f = os.path.join(\"../results/dataframes/fluxes/for_escher\", filename)\n",
    "        if os.path.isdir(f):\n",
    "            continue\n",
    "            \n",
    "        fluxes = pd.read_csv(f, index_col=0, header=[0,1])\n",
    "        comparison = filename.split(\".csv\",1)[0]\n",
    "        \n",
    "        \n",
    "        builder = escher.Builder(\n",
    "            model_json = f\"../results/iMT1026-NZ.json\",\n",
    "            map_json = \"../data/maps/PichiaCCMap.json\")\n",
    "\n",
    "\n",
    "\n",
    "        builder.reaction_compare_style = 'log2_fold'\n",
    "        builder.reaction_styles = ['size', 'color']\n",
    "        builder.enable_tooltips = ['label']\n",
    "        builder.reaction_no_data_color = ['#26c55a']\n",
    "        builder.reaction_no_data_size = ['10']\n",
    "\n",
    "        for index, row in fluxes.iterrows():\n",
    "            if (min(row) <= 0)&(max(row)==0):\n",
    "                new_row = row\n",
    "                new_row[np.argmax(row)] = -1e-7\n",
    "                fluxes.loc[index] = new_row\n",
    "\n",
    "        fluxes.replace(to_replace=0, value=0.0000001, inplace=True)\n",
    "        # log2_array = np.log2(fluxes.iloc[:,0]/fluxes.iloc[:,1]).to_numpy()\n",
    "        # log2_array = log2_array[~np.isnan(log2_array)]\n",
    "        # ll, cll, cl, cul, ul = np.percentile(log2_array,[5,25,50,75,95])\n",
    "\n",
    "        builder.reaction_scale=[\n",
    "        { 'type': 'value', 'value': -2,  'color': '#000bff', 'size':20},\n",
    "        { 'type': 'value', 'value': -1, 'color': '#118fd4', 'size':15},\n",
    "        { 'type': 'value', 'value': -0.5, 'color': '#11ced4', 'size':15},\n",
    "        { 'type': 'value', 'value': 0,  'color': '#8b8b8b', 'size':10},\n",
    "        { 'type': 'value', 'value': 0.5, 'color': '#ffd900', 'size':15},\n",
    "        { 'type': 'value', 'value': 1, 'color': '#ff7700', 'size':15},\n",
    "        { 'type': 'value', 'value': 2,  'color': '#ff0000', 'size':20},\n",
    "        ]\n",
    "\n",
    "        builder.reaction_data = fluxes\n",
    "        builder.save_html(f\"../results/maps/{comparison}Map.html\")    \n"
   ]
  },
  {
   "cell_type": "code",
   "execution_count": null,
   "metadata": {},
   "outputs": [],
   "source": []
  }
 ],
 "metadata": {
  "kernelspec": {
   "display_name": "MeMo 3.7",
   "language": "python",
   "name": "memo37"
  },
  "language_info": {
   "codemirror_mode": {
    "name": "ipython",
    "version": 3
   },
   "file_extension": ".py",
   "mimetype": "text/x-python",
   "name": "python",
   "nbconvert_exporter": "python",
   "pygments_lexer": "ipython3",
   "version": "3.7.11"
  }
 },
 "nbformat": 4,
 "nbformat_minor": 4
}
