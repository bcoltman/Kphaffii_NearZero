{
 "cells": [
  {
   "cell_type": "markdown",
   "metadata": {},
   "source": [
    "# Processing biomass composition data\n",
    "\n",
    "Import different packages"
   ]
  },
  {
   "cell_type": "code",
   "execution_count": 1,
   "metadata": {
    "execution": {
     "iopub.execute_input": "2023-09-01T16:00:47.047606Z",
     "iopub.status.busy": "2023-09-01T16:00:47.047440Z",
     "iopub.status.idle": "2023-09-01T16:00:47.364167Z",
     "shell.execute_reply": "2023-09-01T16:00:47.363527Z"
    },
    "tags": []
   },
   "outputs": [],
   "source": [
    "from libchebipy._chebi_entity import ChebiEntity\n",
    "import pandas as pd\n",
    "import numpy as np\n",
    "import copy\n",
    "import re\n",
    "from DataProcessingFuncs import *\n",
    "import os"
   ]
  },
  {
   "cell_type": "markdown",
   "metadata": {},
   "source": [
    "Import element details (MW etc) and generate empty dataframes for population"
   ]
  },
  {
   "cell_type": "code",
   "execution_count": 3,
   "metadata": {
    "execution": {
     "iopub.execute_input": "2023-09-01T16:00:47.371766Z",
     "iopub.status.busy": "2023-09-01T16:00:47.371641Z",
     "iopub.status.idle": "2023-09-01T16:00:47.378101Z",
     "shell.execute_reply": "2023-09-01T16:00:47.377651Z"
    },
    "tags": []
   },
   "outputs": [],
   "source": [
    "\n",
    "# Import elements dataframe, downloaded from \"https://gist.github.com/GoodmanSciences/c2dd862cd38f21b0ad36b8f96b4bf1ee#file-periodic-table-of-elements-csv\" on 24/01/2022\n",
    "elements_df = pd.read_csv(\"../data/Elements.csv\", index_col=\"Symbol\")\n",
    "# Generate dicitonary with elemental symbol as keys, MW as values\n",
    "mw_dict = elements_df.loc[:,\"AtomicMass\"].to_dict()\n",
    "\n",
    "elemental_order = 'CHNOSP'\n",
    "element_re = re.compile(\"([A-Z][a-z]?)([0-9.]+[0-9.]?|(?=[A-Z])?)\")"
   ]
  },
  {
   "cell_type": "code",
   "execution_count": 4,
   "metadata": {
    "execution": {
     "iopub.execute_input": "2023-09-01T16:00:47.380247Z",
     "iopub.status.busy": "2023-09-01T16:00:47.380124Z",
     "iopub.status.idle": "2023-09-01T16:00:47.385931Z",
     "shell.execute_reply": "2023-09-01T16:00:47.385473Z"
    },
    "tags": []
   },
   "outputs": [],
   "source": [
    "AllStaticComponents = pd.DataFrame(columns=[\"Name\", \"Average Formula\"])\n",
    "\n",
    "AllMeasurements = pd.DataFrame(columns=[\"Name\", \"Value\", \"SD\", \"Method\", \"Macrocomponent\"])\n",
    "VariableStoichMeasurements = pd.DataFrame(columns=[\"Cultivation Group\", \"Sample Point\", \"Name\", \"Family\",\"Macrocomponent\", \"Value\"])"
   ]
  },
  {
   "cell_type": "markdown",
   "metadata": {},
   "source": [
    "Import Chebi data for different molecules/metabolites used and then create metabolite classess for each one, including metabolite formulas etc.\n",
    "\n",
    "Code below used to search chebi for model ID and download information including names, formulas, MW etc. Results of paper use the details listed in ChebiData.csv, as Chebi may be updated."
   ]
  },
  {
   "cell_type": "code",
   "execution_count": 5,
   "metadata": {
    "execution": {
     "iopub.execute_input": "2023-09-01T16:00:47.387683Z",
     "iopub.status.busy": "2023-09-01T16:00:47.387560Z",
     "iopub.status.idle": "2023-09-01T16:00:49.743144Z",
     "shell.execute_reply": "2023-09-01T16:00:49.742447Z"
    },
    "tags": []
   },
   "outputs": [],
   "source": [
    "mols = pd.read_csv(\"../data/ChebiModelIDs.csv\", dtype=str, index_col=0)\n",
    "tochange ={}\n",
    "AllMets = {}\n",
    "for name, i_d in mols[\"ChEBI\"].iteritems():\n",
    "    try: # if want to use CHEBI ID, sometimes the unicode minus is present in chebi names\n",
    "        # which causes problems with python and most programming languages\n",
    "        met = metabolite(chebi_id=i_d)\n",
    "        \n",
    "    except:\n",
    "        met = metabolite(name=name, formula=mols.loc[name,\"Formula\"])\n",
    "    \n",
    "    met.name = met.name.replace(u\"\\u2212\", \"-\")\n",
    "    AllMets[met.name] = met#, name=name)\n",
    "\n",
    "mols.reset_index(inplace=True)\n",
    "mask = mols.ChEBI.isna()\n",
    "mols.loc[~mask,\"ChEBI Name\"] = mols.loc[~mask,\"ChEBI\"].apply(lambda x: metabolite(x).name)\n",
    "mols.set_index(\"Name\", inplace=True)\n",
    "# mols.to_csv(\"../data/UpdatedChebiNew.csv\")\n",
    "mols.to_csv(\"../results/dataframes/biomass/UpdatedChebiNew.csv\")"
   ]
  },
  {
   "cell_type": "markdown",
   "metadata": {},
   "source": []
  },
  {
   "cell_type": "code",
   "execution_count": 6,
   "metadata": {
    "execution": {
     "iopub.execute_input": "2023-09-01T16:00:49.745973Z",
     "iopub.status.busy": "2023-09-01T16:00:49.745831Z",
     "iopub.status.idle": "2023-09-01T16:00:49.768180Z",
     "shell.execute_reply": "2023-09-01T16:00:49.767695Z"
    },
    "tags": []
   },
   "outputs": [],
   "source": [
    "mols = pd.read_csv(\"../data/ChebiData.csv\", dtype=str, index_col=0)\n",
    "\n",
    "AllMets = {}\n",
    "for name, i_d in mols[\"ChEBI\"].iteritems():\n",
    "    try: # if want to use CHEBI ID, sometimes the unicode minus is present in chebi names\n",
    "        # which causes problems with python and most programming languages\n",
    "        met = metabolite(chebi_id=i_d)\n",
    "    except:\n",
    "        met = metabolite(name=name, formula=mols.loc[name,\"Formula\"])\n",
    "    met.name = met.name.replace(u\"\\u2212\", \"-\")\n",
    "    AllMets[met.name] = met\n",
    "    mols.loc[name,\"ChEBI Name\"] = met.name\n",
    "\n",
    "\n",
    "\n",
    "# Glycogen no formula, is a polysaccharide of glucose so replace with glucose - H2O formula\n",
    "mols.loc[\"glycogen\",\"Formula\"] = \"H2O(C6H10O5)n\" \n",
    "\n",
    "mols.loc[:,\"Average Formula\"] = mols[\"Formula\"]\n",
    "# As in Gamisans, we consider glyocgen and beta-glucan as 6 carbon molecules (glucose residues without water),\n",
    "# Mannan is considered as 6 carbon mannose polymer and chitin as a single N-acetylglucosamine residue.\n",
    "#  Additionally, remove R units from lipids and save in a seperate column\n",
    "wo_ps = mols.loc[:,\"Formula\"].str.extract(r'\\(([^()]+)\\)').squeeze()\n",
    "\n",
    "mask = wo_ps.notnull()\n",
    "\n",
    "# This column gets updated later once an average fatty acyl (R) has been generated. This is a restirctive apporach to lipid composition.\n",
    "\n",
    "mols.loc[mask,\"Average Formula\"] = wo_ps[mask]\n",
    "\n",
    "mols.loc[:,\"Core Formula\"] = mols[\"Average Formula\"].str.replace(r'R(.*)',\"\", regex=True)\n",
    "## Do we want to update the dictionary with the average formula for each molecule?\n",
    "mols.loc[:,\"Core Formula Mass\"] = mols[\"Core Formula\"].apply(lambda x: metabolite(formula=x).mass)\n",
    "\n",
    "# # Lipids\n",
    "lipids_df = mols[mols[\"Macrocomponent\"] == \"Lipids\"].copy()\n",
    "\n",
    "lipids_df.loc[:,\"Number of Rs\"] = lipids_df.loc[:,\"Average Formula\"].str.extract(r'R(.*)').squeeze()\n",
    "lipids_df.loc[:,\"Number of Rs\"] = lipids_df.loc[:,\"Number of Rs\"].replace({np.nan:0,\"\":1})"
   ]
  },
  {
   "cell_type": "markdown",
   "metadata": {},
   "source": [
    "## 2. Process all \"static\" compositions\n",
    "\n",
    "Static components = same for all sampling points\n",
    "\n",
    "- a) Fatty acids - average fatty acid\n",
    "    - Fatty acid distribution from grillitsch et al as in carnicer et al\n",
    "- b) Lipids\n",
    "    - Generate\n",
    "- c) DNA \n",
    "    - Nucleotide compositions\n",
    "- d) RNA \n",
    "    - Nucleotide composition\n",
    "\n",
    "- e) Cofactors \n",
    "    - using the cofactor composition from Saccharomyces\n",
    "- f) Sphingolipids\n",
    "    - Static representation due to different FA distribution (palmitoyl co-A derived). As in Gamisans (et al) used from Grillitsch "
   ]
  },
  {
   "cell_type": "markdown",
   "metadata": {},
   "source": [
    "#### 2. a) Calculate average Fatty Acid"
   ]
  },
  {
   "cell_type": "code",
   "execution_count": 7,
   "metadata": {
    "execution": {
     "iopub.execute_input": "2023-09-01T16:00:49.769957Z",
     "iopub.status.busy": "2023-09-01T16:00:49.769813Z",
     "iopub.status.idle": "2023-09-01T16:00:49.782070Z",
     "shell.execute_reply": "2023-09-01T16:00:49.781626Z"
    }
   },
   "outputs": [],
   "source": [
    "FA_df = pd.read_csv(\"../data/biomass/static/FattyAcids.csv\", dtype=str)\n",
    "FA_df = FA_df.astype({\"g/g FA\": float})\n",
    "\n",
    "# We don't consider the \"Others\", but is imported and then removed\n",
    "FA_df = FA_df.iloc[:-1, :]\n",
    "\n",
    "FA_df.loc[:,\"Formula\"] = FA_df[\"Name\"].apply(lambda x: AllMets[x].formula)\n",
    "FA_df.loc[:,\"Mass\"] = FA_df[\"Name\"].apply(lambda x: AllMets[x].mass)\n",
    "\n",
    "fractions_calculator(FA_df, \"g/g FA\", \"Mass\", \"FA\", value_type=\"mass_fraction\")\n",
    "\n",
    "\n",
    "# Remvoe acyl group as it is included in all of the core formulas \n",
    "# for the compounds with an acyl group associated and which contain \n",
    "# an R group for the average fatty acid\n",
    "\n",
    "# coo_array = formula_dict_to_array(formula_to_elements_dict(\"COO\"))\n",
    "coo_array = elements_dict_to_array(metabolite(formula=\"COO\").elements())\n",
    "coo_array = coo_array.reshape((-1,1)) # convert to column vector\n",
    "# Extract formulas for the fatty acids\n",
    "\n",
    "formulas = FA_df.loc[:, \"Formula\"].to_dict()\n",
    "mol_fractions = FA_df.loc[:, \"mmol/mmol FA\"].values\n",
    "FA_av_formula_array = weighted_average_formula(formulas, mol_fractions, return_type=\"array\")\n",
    "FA_av_formula_array = FA_av_formula_array - coo_array\n",
    "FA_av_formula = array_to_formula(FA_av_formula_array.round(1), elemental_order=elemental_order)\n",
    "\n",
    "mols.loc[\"Average Fatty Acid (R)\",[\"Family\", \"Macrocomponent\", \"Average Formula\"]] = [\"Fatty Acids\", \"Lipid\", FA_av_formula]\n"
   ]
  },
  {
   "cell_type": "code",
   "execution_count": 8,
   "metadata": {
    "execution": {
     "iopub.execute_input": "2023-09-01T16:00:49.784002Z",
     "iopub.status.busy": "2023-09-01T16:00:49.783869Z",
     "iopub.status.idle": "2023-09-01T16:00:49.791046Z",
     "shell.execute_reply": "2023-09-01T16:00:49.790595Z"
    }
   },
   "outputs": [],
   "source": [
    "for name, row in mols.iterrows():\n",
    "    met = AllMets.get(name)\n",
    "    if met:\n",
    "        met.name = name\n",
    "        met.formula = row[\"Average Formula\"]\n",
    "    else:\n",
    "        AllMets[name] = metabolite(name=name, \n",
    "                                          formula=row[\"Average Formula\"])"
   ]
  },
  {
   "cell_type": "markdown",
   "metadata": {},
   "source": [
    "#### 2. b) Calculate a representative formula for each lipid, by adding x R groups to the core formula, using the average fatty acid (R) calculated above"
   ]
  },
  {
   "cell_type": "code",
   "execution_count": 9,
   "metadata": {
    "execution": {
     "iopub.execute_input": "2023-09-01T16:00:49.792774Z",
     "iopub.status.busy": "2023-09-01T16:00:49.792651Z",
     "iopub.status.idle": "2023-09-01T16:00:49.808358Z",
     "shell.execute_reply": "2023-09-01T16:00:49.807938Z"
    }
   },
   "outputs": [],
   "source": [
    "# extract number of R groups per lipid \n",
    "R_quantity = lipids_df.loc[:,\"Number of Rs\"].astype(int).to_numpy()\n",
    "# product of number of R groups and the average R group\n",
    "R_groups_formula = FA_av_formula_array.dot(R_quantity.reshape((1,-1))) \n",
    "\n",
    "# extract to dict, lipid names as keys, formulas as values\n",
    "core_lipid_formulas = lipids_df.loc[:, \"Core Formula\"].to_dict() \n",
    "# Formula to elemental dictionary\n",
    "core_lipids = [metabolite(name=k, formula=v) for k, v in core_lipid_formulas.items()] \n",
    "\n",
    "# Convert the elemental dictionary to an array, reshape to column vector\n",
    "cl_arrays = [elements_dict_to_array(lip.elements()) for lip in core_lipids]\n",
    "cl_arrays = [x.reshape((-1,1)) for x in cl_arrays]\n",
    "\n",
    "# Concatenate all of the lipids with R groups formulas into a matrix.\n",
    "# rows of elements, columns of different lipids\n",
    "cl_matrix = np.concatenate(cl_arrays, axis=1)\n",
    "\n",
    "# Add the extra R group formulas to the original lipid compound formulas\n",
    "lipid_av_formula_mx = cl_matrix + R_groups_formula\n",
    "# Convert the representative \"average\" lipid formula array to text\n",
    "av_lipid_formulas = [array_to_formula(row, elemental_order=elemental_order) for row in lipid_av_formula_mx.T.round(2)]\n",
    "# Add the text formulas as a column\n",
    "# lipids_df.loc[:, \"Formula\"] = av_lipid_formulas\n",
    "lipids_df.loc[:, \"Average Formula\"] = av_lipid_formulas\n",
    "# update the average formula in the mols dataframe for the lipids\n",
    "mols.update(lipids_df.loc[:,[\"Average Formula\"]])\n",
    "\n",
    "# Recalcualte mass according to updated formulas in both dataframes\n",
    "# lipids_df[\"Average Mass\"] = lipids_df[\"Formula\"].apply(lambda x: metabolite(formula=x).mass)\n",
    "mols[\"Average Mass\"] = mols[\"Average Formula\"].apply(lambda x: metabolite(formula=x).mass)\n",
    "\n",
    "lipids_df[\"Average Mass\"] = lipids_df[\"Average Formula\"].apply(lambda x: metabolite(formula=x).mass)\n",
    "mols[\"Average Mass\"] = mols[\"Average Formula\"].apply(lambda x: metabolite(formula=x).mass)\n",
    "# lipids_df = lipids_df.reset_index()\n",
    "AllStaticComponents = pd.concat([AllStaticComponents, \n",
    "                                 lipids_df.reset_index().loc[:,[\"Name\",\"Family\",\n",
    "                                                                \"Macrocomponent\", \n",
    "                                                                \"Average Formula\"]]])\n",
    "                                                "
   ]
  },
  {
   "cell_type": "markdown",
   "metadata": {},
   "source": [
    "#### 2. c) DNA"
   ]
  },
  {
   "cell_type": "code",
   "execution_count": 10,
   "metadata": {
    "execution": {
     "iopub.execute_input": "2023-09-01T16:00:49.810222Z",
     "iopub.status.busy": "2023-09-01T16:00:49.810102Z",
     "iopub.status.idle": "2023-09-01T16:00:49.823305Z",
     "shell.execute_reply": "2023-09-01T16:00:49.822870Z"
    }
   },
   "outputs": [],
   "source": [
    "nts_df = pd.read_csv(\"../data/biomass/static/Nucleotides.csv\", index_col=0, dtype=str)\n",
    "nts_df = nts_df.astype({\"moles/moles Family\": float})\n",
    "\n",
    "DNA_df = pd.merge(nts_df[nts_df.Family == \"DNA\"].iloc[:,1:],\n",
    "                  mols[mols.Family == \"DNA\"].loc[:,[\"Average Formula\",\"Average Mass\"]], \n",
    "                  on=\"Name\")\n",
    "\n",
    "fractions_calculator(DNA_df, \"moles/moles Family\", \"Average Mass\", \"DNA\", \n",
    "                                     value_type=\"molar_fraction\")\n",
    "\n",
    "formulas = DNA_df.loc[:, \"Average Formula\"].to_dict()\n",
    "mol_fractions = DNA_df.loc[:, \"moles/moles Family\"].values\n",
    "DNA_av_formula = weighted_average_formula(formulas, mol_fractions)\n",
    "\n",
    "# AllStaticComponents.loc[\"Average Fatty Acid (R)\",[\"Family\", \"Macrocomponent\", \"Average Formula\"]] = [\"Fatty Acids\", \"Lipid\", FA_av_formula]\n",
    "AllStaticComponents = pd.concat([AllStaticComponents, \n",
    "                                 pd.Series({\"Name\":\"DNA\",\n",
    "                                            \"Family\":\"DNA\",\n",
    "                                            \"Macrocomponent\":\"DNA\",\n",
    "                                            \"Average Formula\":DNA_av_formula}).to_frame().T], ignore_index=True) \n"
   ]
  },
  {
   "cell_type": "markdown",
   "metadata": {},
   "source": [
    "#### 2. d) RNA"
   ]
  },
  {
   "cell_type": "code",
   "execution_count": 11,
   "metadata": {
    "execution": {
     "iopub.execute_input": "2023-09-01T16:00:49.825042Z",
     "iopub.status.busy": "2023-09-01T16:00:49.824919Z",
     "iopub.status.idle": "2023-09-01T16:00:49.845988Z",
     "shell.execute_reply": "2023-09-01T16:00:49.845555Z"
    }
   },
   "outputs": [],
   "source": [
    "RNA_df = nts_df[nts_df.Macrocomponent == \"RNA\"].copy()\n",
    "RNA_class_comp = RNA_df[RNA_df.Family == \"RNA\"].copy()\n",
    "RNA_df.drop(RNA_class_comp.index, inplace=True)\n",
    "RNA_df = pd.merge(RNA_df, \n",
    "                  mols[mols.Family == \"RNA\"].loc[:,[\"Average Formula\",\"Average Mass\"]],\n",
    "                  on=\"Name\", how=\"left\")\n",
    "RNA_types = RNA_class_comp.index.to_list()\n",
    "for RNA_class in RNA_types:\n",
    "    \n",
    "    x_mask = RNA_df.Family == RNA_class\n",
    "    RNA_df.loc[x_mask, \"moles/moles Family\"] = RNA_df.loc[x_mask, \"moles/moles Family\"] * \\\n",
    "    RNA_class_comp.loc[RNA_class, \"moles/moles Family\"]\n",
    "\n",
    "av_RNA = RNA_df.reset_index().groupby(\"Name\").sum()\n",
    "RNA_average = pd.concat([av_RNA, \n",
    "                         RNA_df.loc[:,[\"CheBI\", \"Macrocomponent\",\"Average Formula\"]\n",
    "                                   ].drop_duplicates()],\n",
    "                        axis=1)\n",
    "\n",
    "RNA_average[\"Family\"] = 'RNA'\n",
    "\n",
    "fractions_calculator(RNA_average, \"moles/moles Family\", \"Average Mass\", \"RNA\", \n",
    "                                     value_type=\"molar_fraction\")\n",
    "\n",
    "\n",
    "RNA_df = RNA_df.append(RNA_average)\n",
    "\n",
    "formulas = RNA_average.loc[:, \"Average Formula\"].to_dict()\n",
    "mol_fractions = RNA_average.loc[:, \"moles/moles Family\"].values\n",
    "RNA_av_formula = weighted_average_formula(formulas, mol_fractions)\n",
    "\n",
    "AllStaticComponents = pd.concat([AllStaticComponents,\n",
    "                                 pd.Series({\"Name\":\"RNA\",\n",
    "                                            \"Family\":\"RNA\",\n",
    "                                            \"Macrocomponent\":\"RNA\",\n",
    "                                            \"Average Formula\":RNA_av_formula}).to_frame().T], ignore_index=True)"
   ]
  },
  {
   "cell_type": "markdown",
   "metadata": {},
   "source": [
    "#### 2. f) Sphingolipids Representation\n",
    "FA chain distribution is quite different in the sphingolipids, use the same as published previosuly, from Grillitsch"
   ]
  },
  {
   "cell_type": "code",
   "execution_count": 12,
   "metadata": {
    "execution": {
     "iopub.execute_input": "2023-09-01T16:00:49.847688Z",
     "iopub.status.busy": "2023-09-01T16:00:49.847565Z",
     "iopub.status.idle": "2023-09-01T16:00:49.863053Z",
     "shell.execute_reply": "2023-09-01T16:00:49.862539Z"
    }
   },
   "outputs": [],
   "source": [
    "SphLip = pd.read_csv(f\"../data/biomass/static/Sphingolipids.csv\",index_col=0)\n",
    "SphLip[\"Formula\"] = SphLip.index.to_series().apply(lambda x: AllMets[x].formula)\n",
    "SphLip[\"Mass\"] = SphLip.index.to_series().apply(lambda x: AllMets[x].mass)\n",
    "\n",
    "\n",
    "for family, group in SphLip.groupby(\"Family\"):\n",
    "    mol_fractions = group[\"mol/mol Family\"].to_numpy()\n",
    "    formulas = group.Formula.to_dict()\n",
    "    family_av_formula = weighted_average_formula(formulas, mol_fractions)\n",
    "    \n",
    "    AllStaticComponents = pd.concat([AllStaticComponents,\n",
    "                                     pd.Series({\"Name\":family,\n",
    "                                                \"Family\":\"Sphingolipids\",\n",
    "                                                \"Macrocomponent\":\"Lipids\",\n",
    "                                                \"Average Formula\":family_av_formula}).to_frame().T], ignore_index=True)\n",
    "    "
   ]
  },
  {
   "cell_type": "markdown",
   "metadata": {},
   "source": [
    "### Update dictionary entries"
   ]
  },
  {
   "cell_type": "code",
   "execution_count": 13,
   "metadata": {
    "execution": {
     "iopub.execute_input": "2023-09-01T16:00:49.864742Z",
     "iopub.status.busy": "2023-09-01T16:00:49.864621Z",
     "iopub.status.idle": "2023-09-01T16:00:49.869221Z",
     "shell.execute_reply": "2023-09-01T16:00:49.868784Z"
    }
   },
   "outputs": [],
   "source": [
    "\n",
    "        \n",
    "for ix, row in AllStaticComponents.iterrows():\n",
    "    met = AllMets.get(row[\"Name\"])\n",
    "    if met:\n",
    "        met.name = row[\"Name\"]\n",
    "        met.formula = row[\"Average Formula\"]\n",
    "    else:\n",
    "        AllMets[row[\"Name\"]] = metabolite(name=row[\"Name\"], \n",
    "                                          formula=row[\"Average Formula\"])\n",
    "        "
   ]
  },
  {
   "cell_type": "markdown",
   "metadata": {},
   "source": [
    "## 3. Incorporate variable measurements for the different sample points \n",
    "\n",
    "Variable components\n",
    "- Carbohydrates\n",
    "    - Glycogen content\n",
    "    - Trehalose content\n",
    "    - Total cabrohydrate\n",
    "- Lipids\n",
    "    - Lipid distribution\n",
    "    - Sum of lipid distribution\n",
    "- Protein\n",
    "    - Amino acid content\n",
    "    - Total amino acids\n",
    "    - Total protein - Biuret\n",
    "- DNA\n",
    "    - Total DNA - \n",
    "- RNA\n",
    "    - Total RNA -"
   ]
  },
  {
   "cell_type": "markdown",
   "metadata": {},
   "source": [
    "### Import the measured biomass compositions"
   ]
  },
  {
   "cell_type": "code",
   "execution_count": 14,
   "metadata": {
    "execution": {
     "iopub.execute_input": "2023-09-01T16:00:49.870875Z",
     "iopub.status.busy": "2023-09-01T16:00:49.870753Z",
     "iopub.status.idle": "2023-09-01T16:00:49.875240Z",
     "shell.execute_reply": "2023-09-01T16:00:49.874816Z"
    }
   },
   "outputs": [],
   "source": [
    "sample_info = pd.read_csv(f\"../data/SampleInfo.csv\", index_col=0)\n",
    "cul_grp_dict = sample_info[\"Chemostat Length\"].to_dict()"
   ]
  },
  {
   "cell_type": "markdown",
   "metadata": {},
   "source": [
    "#### 3. a) Amino acid composition and the sum of amino acids.\n",
    "\n",
    "Amino Acid data is all present as nmol/g DCW"
   ]
  },
  {
   "cell_type": "markdown",
   "metadata": {},
   "source": [
    "### Import and do initial processing on Amino Acid data\n",
    "- Also includes calcualtion mean and SD of the total protein composition from the AA data "
   ]
  },
  {
   "cell_type": "code",
   "execution_count": 15,
   "metadata": {
    "execution": {
     "iopub.execute_input": "2023-09-01T16:00:49.877274Z",
     "iopub.status.busy": "2023-09-01T16:00:49.877153Z",
     "iopub.status.idle": "2023-09-01T16:00:49.915166Z",
     "shell.execute_reply": "2023-09-01T16:00:49.914700Z"
    },
    "tags": []
   },
   "outputs": [],
   "source": [
    "# Data is is nmol/mg CDW\n",
    "AA_df = pd.read_csv(f\"../data/biomass/measured/AAComp.csv\")\n",
    "cols = list(AA_df.columns)\n",
    "# Remove end bits from aminoa cids and use the three letter code\n",
    "cols = cols[:1] + [x[:3] for x in cols[1:]]\n",
    "AA_df.columns = cols\n",
    "AA_df.set_index(\"Sample\", inplace=True)\n",
    "\n",
    "# Arbitrary split between Asp and Asn for the Asx.Half to each\n",
    "AA_df[\"Asp\"] = AA_df.loc[:,\"Asx\"]/2\n",
    "AA_df[\"Asn\"] = AA_df.loc[:,\"Asx\"]/2\n",
    "AA_df.loc[\"WFR Lysozyme on yeast (%)\",[\"Asp\", \"Asn\"]] = AA_df.loc[\"WFR Lysozyme on yeast (%)\",\"Asx\"]\n",
    "\n",
    "lysrec = AA_df.loc[\"WFR Lysozyme on yeast (%)\",\"Glu\"]\n",
    "AA_df[\"Gln\"] = AA_df.loc[:,\"Glu\"]/2\n",
    "AA_df[\"Glu\"] = AA_df.loc[:,\"Glu\"]/2\n",
    "# Want to represent tryptophan but acid hydrolysis affects residue recovery, so use tyrosine value\n",
    "AA_df[\"Trp\"] = AA_df[\"Tyr\"]\n",
    "\n",
    "\n",
    "\n",
    "AA_df.loc[\"WFR Lysozyme on yeast (%)\",[\"Glu\", \"Gln\"]] = lysrec\n",
    "\n",
    "AA_df.drop(columns=\"Asx\", inplace=True)\n",
    "\n",
    "rename_dict = mols[mols.Family == \"Amino Acid\"][\"Alternative Name\"].to_dict()\n",
    "rename_dict = {v:k for k,v in rename_dict.items()}\n",
    "\n",
    "# AA_df.set_index(\"Sample\", inplace=True)\n",
    "AA_df.rename(columns=rename_dict, inplace=True)\n",
    "lysozyme = AA_df.loc[\"WFR Lysozyme on yeast (%)\",:]\n",
    "AA_df.drop(\"WFR Lysozyme on yeast (%)\", inplace=True)\n",
    "AA_df.reset_index(inplace=True)\n",
    "\n",
    "AA_df[[\"Cultivation\",\"Sample Point\"]] = AA_df.Sample.str.split(\"_\", expand=True)\n",
    "AA_df[\"Cultivation Group\"] = AA_df[\"Cultivation\"].apply(lambda x: cul_grp_dict.get(x))\n",
    "\n",
    "AA_df.drop(columns=\"Sample\", inplace=True)\n",
    "AA_df.set_index([\"Cultivation Group\", \"Sample Point\", \"Cultivation\"], inplace=True)\n",
    "# Convert to mmoles/gCDW. Originally in nmoles/mg\n",
    "AA_df = AA_df * 1e-3\n",
    "\n",
    "AA_adjusted = AA_df.copy() # Can adjust for lysozyme by uncommenting the AA_df comment\n",
    "AA_adjusted = AA_adjusted / (lysozyme/100)\n",
    "\n",
    "\n",
    "# Reconciliaiton measurements\n",
    "\n",
    "AA_mws = mols.loc[AA_df.columns, \"Average Mass\"].values/1000\n",
    "for i, df in enumerate([AA_df, AA_adjusted]):\n",
    "    \n",
    "    temp = (df * AA_mws).sum(axis=1).to_frame()\n",
    "    temp = temp.groupby([\"Cultivation Group\", \"Sample Point\"]).agg([(\"Value\", \"mean\"), (\"SD\", \"std\")])\n",
    "    temp = temp.droplevel(0, axis=1)\n",
    "\n",
    "    temp.reset_index(inplace=True)\n",
    "\n",
    "    \n",
    "    temp.set_index([\"Cultivation Group\", \"Sample Point\"], inplace=True)\n",
    "    temp.loc[(\"SC\", \"R3\"), \"Value\"] = temp.loc[(\"SC\", [\"SS\",\"R6\"]), \"Value\"].mean()\n",
    "    # Add a higher SD value, relative SD of 10% to the R3 value due to being an average of the two neighbouring smapling points\n",
    "    temp.loc[(\"SC\", \"R3\"), \"SD\"] = temp.loc[(\"SC\", \"R3\"), \"Value\"] * 0.1\n",
    "    \n",
    "    temp.reset_index(inplace=True)\n",
    "    temp[\"Name\"] = [\"Protein-AA_Sum\", \"Protein-AA_Sum_Adjusted\"][i]\n",
    "    temp[\"Method\"] = [\"AA_Sum\", \"AA_Sum_Adjusted\"][i]\n",
    "    temp[\"Macrocomponent\"] = \"Protein\"\n",
    "\n",
    "\n",
    "    AllMeasurements = pd.concat([AllMeasurements,\n",
    "                                            temp], ignore_index=True)"
   ]
  },
  {
   "cell_type": "markdown",
   "metadata": {},
   "source": [
    "#### 3. b) Representative formula for protein as well as the stoichiometry for each condition\n",
    "    - Using the non adjusted amino acid composition"
   ]
  },
  {
   "cell_type": "code",
   "execution_count": 16,
   "metadata": {
    "execution": {
     "iopub.execute_input": "2023-09-01T16:00:49.916903Z",
     "iopub.status.busy": "2023-09-01T16:00:49.916781Z",
     "iopub.status.idle": "2023-09-01T16:00:49.966512Z",
     "shell.execute_reply": "2023-09-01T16:00:49.966044Z"
    }
   },
   "outputs": [],
   "source": [
    "AA_grouped = AA_df.groupby([\"Cultivation Group\", \"Sample Point\"]).agg([\"mean\",\"std\"]).stack(0).sort_index()\n",
    "\n",
    "AA_grouped.reset_index(inplace=True)\n",
    "\n",
    "AA_grouped.rename(columns={\"mean\":\"mmol/g CDW\", \"level_2\":\"Name\"}, inplace=True)\n",
    "# No AA measured for R3 sampling point\n",
    "R3_distribution = AA_grouped.set_index([\"Cultivation Group\", \"Sample Point\", \"Name\"]\n",
    "                                      )[\"mmol/g CDW\"].unstack().loc[(\"SC\", [\"SS\", \"R6\"]),:].mean()\n",
    "R3_distribution.name = \"mmol/g CDW\"\n",
    "R3_distribution = R3_distribution.to_frame().reset_index()\n",
    "R3_distribution[\"Cultivation Group\"] = \"SC\"\n",
    "R3_distribution[\"Sample Point\"] = \"R3\"\n",
    "\n",
    "AA_grouped = pd.concat([AA_grouped, R3_distribution], ignore_index=True)\n",
    "\n",
    "AA_grouped[\"Average Formula\"] = AA_grouped.Name.apply(lambda x: AllMets[x].formula)\n",
    "AA_grouped[\"Average Mass\"] = AA_grouped.Name.apply(lambda x: AllMets[x].mass)\n",
    "\n",
    "AA_grouped.set_index([\"Cultivation Group\", \"Sample Point\", \"Name\"], inplace=True)\n",
    "\n",
    "\n",
    "\n",
    "all_groups = []\n",
    "all_sp_formulas = []\n",
    "\n",
    "for name, group in AA_grouped.groupby([\"Cultivation Group\", \"Sample Point\"]):\n",
    "    \n",
    "    group = fractions_calculator(group, \"mmol/g CDW\", \"Average Mass\", \"Protein\", \n",
    "                         value_type=\"mmol_gcdw_fraction\", inplace=False)\n",
    "    \n",
    "    all_groups.append(group)\n",
    "\n",
    "AA_grouped = pd.concat(all_groups)\n",
    "AA_grouped[\"Family\"] = \"Amino Acids\"\n",
    "AA_grouped[\"Macrocomponent\"] = \"Protein\"\n",
    "\n",
    "temp = AA_grouped.reset_index()\n",
    "\n",
    "\n",
    "\n",
    "\n",
    "\n",
    "temp.rename(columns={\"g/g Protein\":\"Value\"}, inplace=True)\n",
    "temp = temp.loc[:, [\"Cultivation Group\", \"Sample Point\", \"Name\", \"Value\", \n",
    "                    \"Family\", \"Macrocomponent\"]]\n",
    "\n",
    "VariableStoichMeasurements = pd.concat([VariableStoichMeasurements,\n",
    "                                        temp], ignore_index=True)\n",
    "\n",
    "\n"
   ]
  },
  {
   "cell_type": "markdown",
   "metadata": {},
   "source": [
    "#### 3. c) Representative representative lipid for each sampling point"
   ]
  },
  {
   "cell_type": "code",
   "execution_count": 17,
   "metadata": {
    "execution": {
     "iopub.execute_input": "2023-09-01T16:00:49.968444Z",
     "iopub.status.busy": "2023-09-01T16:00:49.968320Z",
     "iopub.status.idle": "2023-09-01T16:00:49.971551Z",
     "shell.execute_reply": "2023-09-01T16:00:49.971096Z"
    }
   },
   "outputs": [],
   "source": [
    "lipid_name_dict = {\"DG\":\"1,2-diglyceride\",\n",
    "                   \"TG\":\"triglyceride\",\n",
    "                   \"Ergosterol\":\"ergosterol\",\n",
    "                   \"Cer\":\"Ceramide\",\n",
    "                   \"LPC\":\"lysophosphatidylcholine\",\n",
    "                   \"PC\":\"phosphatidylcholine\",\n",
    "                   \"PE\":\"phosphatidylethanolamine\",\n",
    "                   \"PG\":\"phosphatidylglycerol\",\n",
    "                   \"PI\":\"1-phosphatidyl-1D-myo-inositol(1-)\",\n",
    "                   \"PS\":\"phosphatidyl-L-serine(1-)\",\n",
    "                   \"ZE\":\"zymosterol ester\",\n",
    "                   \"EE\":\"ergosteryl ester\",\n",
    "                   \"HexCer\":\"Glucosylceramide\"}"
   ]
  },
  {
   "cell_type": "markdown",
   "metadata": {},
   "source": [
    "Import results from manual clacualtion of ceramide and sphingolipids amounts and ratios to inositol containing sphingolipids"
   ]
  },
  {
   "cell_type": "code",
   "execution_count": 18,
   "metadata": {
    "execution": {
     "iopub.execute_input": "2023-09-01T16:00:49.973206Z",
     "iopub.status.busy": "2023-09-01T16:00:49.973085Z",
     "iopub.status.idle": "2023-09-01T16:00:49.987249Z",
     "shell.execute_reply": "2023-09-01T16:00:49.986794Z"
    }
   },
   "outputs": [],
   "source": [
    "\n",
    "ManualCer = pd.read_csv(f\"../data/biomass/measured/ManualCer.csv\", index_col=0)\n",
    "SphingoRatios = pd.read_csv(f\"../data/biomass/static/SphingoRatios.csv\", index_col=0)\n",
    "\n",
    "ManualCer.set_index([\"Family\",\"Sample\",\"Sample Point\",\"Cultivation Group\"], inplace=True)\n",
    "ManualCer.rename(index=lipid_name_dict, inplace=True)\n",
    "\n",
    "CerHexCerRatios = ManualCer.loc[\"Ceramide\"]/ManualCer.loc[\"Glucosylceramide\"]\n",
    "\n",
    "ManualCer.reset_index(inplace=True)\n",
    "ManualCer.set_index([\"Sample\",\"Sample Point\",\"Cultivation Group\", \"Family\"], inplace=True)"
   ]
  },
  {
   "cell_type": "code",
   "execution_count": 19,
   "metadata": {
    "execution": {
     "iopub.execute_input": "2023-09-01T16:00:49.988933Z",
     "iopub.status.busy": "2023-09-01T16:00:49.988812Z",
     "iopub.status.idle": "2023-09-01T16:00:50.087420Z",
     "shell.execute_reply": "2023-09-01T16:00:50.086930Z"
    }
   },
   "outputs": [],
   "source": [
    "TotLip = pd.read_csv(f\"../data/biomass/measured/LipidConc.csv\", index_col=[0])\n",
    "TotLip.Sample = TotLip.Sample.str.replace('CO',\"C0\")\n",
    "TotLip = TotLip[TotLip.Type == \"mean\"].drop(columns=\"Type\")\n",
    "TotLip[[\"Cultivation\",\"Sample Point\"]] = TotLip.Sample.str.split(\"_\", expand=True)\n",
    "TotLip[\"Cultivation Group\"] = TotLip[\"Cultivation\"].apply(lambda x: cul_grp_dict.get(x))\n",
    "\n",
    "SamplePointTotals = TotLip.groupby([\"Cultivation Group\",\"Sample Point\"]).agg([\"mean\", \"std\"])\n",
    "SamplePointTotals = SamplePointTotals.stack(0).T.stack()\n",
    "\n",
    "\n",
    "# SamplePointTotals.to_csv(f\"../data/biomass/lipids/SamplePointTotals.csv\")\n",
    "\n",
    "# Drop cultivation column and create variable:value columns of lipid:g/g %\n",
    "TotLip = TotLip.drop(columns=\"Cultivation\").melt(id_vars=[\"Sample\", \"Sample Point\", \"Cultivation Group\"])\n",
    "# Split lipid names to Family and lipid, before pivot table aggregates and calcualtes mean and\n",
    "# # stdev for each lipid Family at each sampling point. Final transformation such that rows = smapling points\n",
    "TotLip[[\"Family\", \"Lipid\"]] = TotLip.variable.str.split(\" \", 1, expand=True)\n",
    "\n",
    "TotLipFamily = TotLip.groupby([\"Sample\", \"Sample Point\", \"Cultivation Group\", \"Family\"]).sum()\n",
    "TotLipFamily.rename(index=lipid_name_dict, columns={\"value\":\"Value\"}, inplace=True)\n",
    "\n",
    "TotLipFamily.loc[(slice(None), [\"SS\", \"C0.1\"], [\"SC\", \"C0.1\"], \"Ceramide\"),\"Value\"] = ManualCer.loc[(slice(None), [\"SS\", \"C0.1\"], [\"SC\", \"C0.1\"], \"Ceramide\"),\"Value\"]\n",
    "\n",
    "temp_index = TotLipFamily.loc[(slice(None), slice(None), slice(None), \"Ceramide\"),:].droplevel(-1).index\n",
    "HexCer = TotLipFamily.loc[(slice(None), slice(None), slice(None), \"Ceramide\"),:] / CerHexCerRatios.loc[temp_index, :] #values\n",
    "HexCer = HexCer.droplevel(-1)\n",
    "\n",
    "\n",
    "SphingoValues = pd.DataFrame(HexCer.values * SphingoRatios.values.T,\n",
    "                             columns=SphingoRatios.index,\n",
    "                             index=HexCer.index)\n",
    "\n",
    "SphingoValues = SphingoValues.stack().reset_index()\n",
    "SphingoValues.rename(columns={0: \"Value\"}, inplace=True) # SHOULD CHANGE IT TO g/g and only change it back later\n",
    "TotLipFamily = pd.concat([TotLipFamily.reset_index(),\n",
    "                          SphingoValues], ignore_index=True)\n",
    "\n",
    "TotLipFamily.rename(columns={\"Family\":\"Name\"}, inplace=True)\n",
    "\n"
   ]
  },
  {
   "cell_type": "markdown",
   "metadata": {},
   "source": [
    "#### 3. d) Sum of lipid classes\n",
    "The sum of the lipids from the lipidomic analysis has been demonstrated to be a reasonable approximation of the total lipid content. We included the extra \"assumed\" sphingolipids as an addition to the total lipid calcualtion. These values are small and make little relative difference "
   ]
  },
  {
   "cell_type": "code",
   "execution_count": 20,
   "metadata": {
    "execution": {
     "iopub.execute_input": "2023-09-01T16:00:50.089535Z",
     "iopub.status.busy": "2023-09-01T16:00:50.089407Z",
     "iopub.status.idle": "2023-09-01T16:00:50.105230Z",
     "shell.execute_reply": "2023-09-01T16:00:50.104764Z"
    }
   },
   "outputs": [],
   "source": [
    "SumLip = TotLipFamily.groupby([\"Sample\", \"Cultivation Group\", \"Sample Point\"]).sum()\n",
    "\n",
    "\n",
    "SumLip = SumLip.groupby([\"Cultivation Group\", \"Sample Point\"]).agg([\"mean\", \"std\"])\n",
    "SumLip = SumLip.rename(columns={\"value\":\"Lipid\"})\n",
    "\n",
    "temp = SumLip.droplevel(0, axis=1)  # No measurement for R3, so take an average between SS and R6\n",
    "\n",
    "temp.rename(columns={\"mean\":\"Value\", \"std\":\"SD\"}, inplace=True)\n",
    "temp.loc[(\"SC\", \"R3\"),\"Value\"] = temp.loc[(\"SC\", [\"SS\",\"R6\"]),\"Value\"].mean()\n",
    "# Add a higher SD value, relative SD of 10% to the R3 value due to being an average of the two neighbouring smapling points\n",
    "temp.loc[(\"SC\", \"R3\"),\"SD\"] = temp.loc[(\"SC\", \"R3\"),\"Value\"] * 0.10\n",
    "temp.reset_index(inplace=True)\n",
    "\n",
    "temp[\"Name\"] = \"Lipid\"\n",
    "temp[\"Method\"] = \"Sum of Lipid\"\n",
    "temp[\"Macrocomponent\"] = \"Lipid\"\n",
    "AllMeasurements = pd.concat([AllMeasurements,\n",
    "                                        temp], ignore_index=True)\n"
   ]
  },
  {
   "cell_type": "code",
   "execution_count": 21,
   "metadata": {
    "execution": {
     "iopub.execute_input": "2023-09-01T16:00:50.107409Z",
     "iopub.status.busy": "2023-09-01T16:00:50.107289Z",
     "iopub.status.idle": "2023-09-01T16:00:50.158913Z",
     "shell.execute_reply": "2023-09-01T16:00:50.158181Z"
    }
   },
   "outputs": [],
   "source": [
    "TotLipFamily_pivot = TotLipFamily.pivot_table(values='Value', index=[\"Sample\", \"Sample Point\", \"Cultivation Group\"], columns='Name')\n",
    "\n",
    "TLF_grouped = TotLipFamily_pivot.groupby([\"Cultivation Group\", \"Sample Point\"]).agg([\"mean\",\"std\"]).stack(0).sort_index()\n",
    "TLF_grouped.reset_index(inplace=True)\n",
    "\n",
    "TLF_grouped.rename(columns={\"mean\":\"g/g CDW\", \"level_2\":\"Name\"}, inplace=True)\n",
    "\n",
    "R3_distribution = TLF_grouped.set_index([\"Cultivation Group\", \"Sample Point\", \"Name\"])[\"g/g CDW\"].unstack().loc[(\"SC\", [\"SS\", \"R6\"]),:].mean()\n",
    "R3_distribution.name = \"g/g CDW\"\n",
    "R3_distribution = R3_distribution.to_frame().reset_index()\n",
    "R3_distribution[\"Cultivation Group\"] = \"SC\"\n",
    "R3_distribution[\"Sample Point\"] = \"R3\"\n",
    "TLF_grouped = pd.concat([TLF_grouped, R3_distribution], ignore_index=True)\n",
    "\n",
    "# TLF_grouped = pd.merge(TLF_grouped, mols[[\"Average Formula\", \"Average Mass\"]].reset_index())\n",
    "TLF_grouped[\"Average Formula\"] = TLF_grouped.Name.apply(lambda x: AllMets[x].formula)\n",
    "TLF_grouped[\"Average Mass\"] = TLF_grouped.Name.apply(lambda x: AllMets[x].mass)\n",
    "\n",
    "TLF_grouped.set_index([\"Cultivation Group\", \"Sample Point\", \"Name\"], inplace=True)\n",
    "\n",
    "\n",
    "all_groups = []\n",
    "\n",
    "for name, group in TLF_grouped.groupby([\"Cultivation Group\", \"Sample Point\"]):\n",
    "    \n",
    "    group = fractions_calculator(group, \"g/g CDW\", \"Average Mass\", \"Lipid\", \n",
    "                         value_type=\"mass_fraction\", inplace=False)\n",
    "    \n",
    "    all_groups.append(group)\n",
    "    \n",
    "TLF_grouped = pd.concat(all_groups)\n",
    "TLF_grouped[\"Family\"] = \"Lipid\"\n",
    "TLF_grouped[\"Macrocomponent\"] = \"Lipid\"\n",
    "\n",
    "temp = TLF_grouped.reset_index()\n",
    "\n",
    "\n",
    "\n",
    "temp.rename(columns={\"g/g Lipid\":\"Value\"}, inplace=True)\n",
    "temp = temp.loc[:, [\"Cultivation Group\", \"Sample Point\", \"Name\", \"Value\", \n",
    "                    \"Family\", \"Macrocomponent\"]]\n",
    "\n",
    "VariableStoichMeasurements = pd.concat([VariableStoichMeasurements,\n",
    "                                        temp], ignore_index=True)\n",
    "\n"
   ]
  },
  {
   "cell_type": "markdown",
   "metadata": {},
   "source": [
    "#### 3. e) Calcualte carbohydrate composition\n",
    "Measurements of trehaloise and glycogen are combined with total carbohydrate content. Assuming a chitin-glucan complex as 22% of the total cell dry weight and clacualting accordingly."
   ]
  },
  {
   "cell_type": "markdown",
   "metadata": {},
   "source": [
    "Import of carbohydrate data and initial processing"
   ]
  },
  {
   "cell_type": "code",
   "execution_count": 22,
   "metadata": {
    "execution": {
     "iopub.execute_input": "2023-09-01T16:00:50.161956Z",
     "iopub.status.busy": "2023-09-01T16:00:50.161454Z",
     "iopub.status.idle": "2023-09-01T16:00:50.181697Z",
     "shell.execute_reply": "2023-09-01T16:00:50.181191Z"
    }
   },
   "outputs": [],
   "source": [
    "Carb_df = pd.read_csv(\"../data/biomass/measured/CarbComp.csv\")\n",
    "\n",
    "sample_info = pd.read_csv(\"../data/SampleInfo.csv\", index_col=0)\n",
    "cul_grp_dict = sample_info[\"Chemostat Length\"].to_dict()\n",
    "\n",
    "Carb_df[[\"Cultivation\",\"Sample Point\"]] = Carb_df.Sample.str.split(\"_\", expand=True)\n",
    "\n",
    "Carb_df[\"Cultivation Group\"] = Carb_df[\"Cultivation\"].apply(lambda x: cul_grp_dict.get(x))\n",
    "\n",
    "\n",
    "Carb_df.drop(columns=\"Cultivation\", inplace=True)\n",
    "\n",
    "CGC_df = pd.read_csv(\"../data/biomass/static/CGCComp.csv\", index_col=0)\n",
    "CGC_prop = CGC_df.loc[\"CGC\",\"g/g Family\"]\n",
    "CGC_df = CGC_df.drop(\"CGC\")\n",
    "CGC_df.loc[:,\"g/g DCW\"] = CGC_df.loc[:,\"g/g Family\"]* CGC_prop\n",
    "CGC_g_g = CGC_df.T.loc[\"g/g DCW\",:]\n",
    "\n",
    "Carb_df = Carb_df[Carb_df[\"Variable\"] == \"Mean\"]\n",
    "Carb_df.drop(columns=[\"Sample\", \"Variable\"], inplace=True)\n",
    "Carb_df = Carb_df.assign(**CGC_g_g.to_dict())\n",
    "Carb_df.set_index([\"Cultivation Group\", \"Sample Point\"], inplace=True)\n",
    "other = Carb_df.Total - Carb_df[Carb_df.columns.drop(\"Total\")].sum(axis=1)\n",
    "# # # Assume other as Glucan and then added to the glucan columns\n",
    "Carb_df[\"(1->4)-beta-D-glucan\"] = other + Carb_df[\"(1->4)-beta-D-glucan\"]\n",
    "Carb_df.rename(columns={\"Glycogen\":\"glycogen\",\n",
    "                             \"Trehalose\":\"alpha,alpha-trehalose\"},\n",
    "                   inplace=True)\n",
    "\n",
    "# No total Carb values for some\n",
    "Carb_df.dropna(inplace=True)"
   ]
  },
  {
   "cell_type": "markdown",
   "metadata": {},
   "source": [
    "Grouping and calcualting stoichiometric ratios etc"
   ]
  },
  {
   "cell_type": "code",
   "execution_count": 23,
   "metadata": {
    "execution": {
     "iopub.execute_input": "2023-09-01T16:00:50.183774Z",
     "iopub.status.busy": "2023-09-01T16:00:50.183648Z",
     "iopub.status.idle": "2023-09-01T16:00:50.226485Z",
     "shell.execute_reply": "2023-09-01T16:00:50.225976Z"
    }
   },
   "outputs": [],
   "source": [
    "Carb_df_grouped = Carb_df.groupby([\"Cultivation Group\", \"Sample Point\"]).agg([\"mean\",\"std\"])\n",
    "\n",
    "\n",
    "temp = Carb_df_grouped.loc[:,[\"Total\"]]\n",
    "temp = temp.droplevel(0,axis=1)\n",
    "temp.reset_index(inplace=True)\n",
    "temp.rename(columns={\"mean\":\"Value\", \"std\":\"SD\"}, inplace=True)\n",
    "temp[\"Name\"] = \"Carbohydrate\"\n",
    "temp[\"Method\"] = \"Measured\"\n",
    "temp[\"Macrocomponent\"] = \"Carbohydrate\"\n",
    "\n",
    "AllMeasurements = pd.concat([AllMeasurements,\n",
    "                                        temp], ignore_index=True)\n",
    "\n",
    "Carb_df_grouped.drop(columns=\"Total\", inplace=True)\n",
    "Carb_df_grouped = Carb_df_grouped.stack(0)\n",
    "Carb_df_grouped.reset_index(inplace=True)\n",
    "\n",
    "\n",
    "Carb_df_grouped.rename(columns={\"mean\":\"g/g CDW\", \"level_2\":\"Name\"}, inplace=True)\n",
    "\n",
    "Carb_df_grouped[\"Average Formula\"] = Carb_df_grouped.Name.apply(lambda x: AllMets[x].formula)\n",
    "Carb_df_grouped[\"Average Mass\"] = Carb_df_grouped.Name.apply(lambda x: AllMets[x].mass)\n",
    "Carb_df_grouped.set_index([\"Cultivation Group\", \"Sample Point\", \"Name\"], inplace=True)\n",
    "\n",
    "all_groups = []\n",
    "\n",
    "for name, group in Carb_df_grouped.groupby([\"Cultivation Group\", \"Sample Point\"]):\n",
    "    \n",
    "    group = fractions_calculator(group, \"g/g CDW\", \"Average Mass\", \"Carbohydrate\", \n",
    "                         value_type=\"mass_fraction\", inplace=False)\n",
    "    \n",
    "    all_groups.append(group)\n",
    "    \n",
    "Carb_df_grouped = pd.concat(all_groups)\n",
    "Carb_df_grouped[\"Family\"] = \"Carbohydrate\"\n",
    "Carb_df_grouped[\"Macrocomponent\"] = \"Carbohydrate\"\n",
    "\n",
    "temp = Carb_df_grouped.reset_index()\n",
    "\n",
    "temp.rename(columns={\"g/g Carbohydrate\":\"Value\"}, inplace=True)\n",
    "temp = temp.loc[:, [\"Cultivation Group\", \"Sample Point\", \"Name\", \"Value\", \n",
    "                    \"Family\", \"Macrocomponent\"]]\n",
    "VariableStoichMeasurements = pd.concat([VariableStoichMeasurements,\n",
    "                                        temp], ignore_index=True)\n"
   ]
  },
  {
   "cell_type": "markdown",
   "metadata": {},
   "source": [
    "## 5. Importing macrocompoentn measurements\n",
    "- Protein\n",
    "    - Total protein - Biuret and BSA method\n",
    "- DNA\n",
    "    - Total content\n",
    "- RNA \n",
    "    - Total content\n",
    "    "
   ]
  },
  {
   "cell_type": "markdown",
   "metadata": {},
   "source": [
    "#### 5. a) Total protein content"
   ]
  },
  {
   "cell_type": "code",
   "execution_count": 24,
   "metadata": {
    "execution": {
     "iopub.execute_input": "2023-09-01T16:00:50.228584Z",
     "iopub.status.busy": "2023-09-01T16:00:50.228212Z",
     "iopub.status.idle": "2023-09-01T16:00:50.242565Z",
     "shell.execute_reply": "2023-09-01T16:00:50.242063Z"
    }
   },
   "outputs": [],
   "source": [
    "TotalProt = pd.read_csv(f\"../data/biomass/measured/ProteinComp.csv\")\n",
    "\n",
    "TotalProt[[\"Cultivation\",\"Sample Point\"]] = TotalProt.Sample.str.split(\"_\", expand=True)\n",
    "\n",
    "TotalProt[\"Cultivation Group\"] = TotalProt[\"Cultivation\"].apply(lambda x: cul_grp_dict.get(x))\n",
    "TotalProt = TotalProt[TotalProt[\"Variable\"] == \"Mean\"]\n",
    "TotalProt.drop(columns=[\"Variable\", \"Cultivation\"])\n",
    "TotalProt.drop(columns=[\"Variable\", \"Cultivation\", \"Sample\"], inplace=True)\n",
    "TotalProt = TotalProt.groupby([\"Cultivation Group\", \"Sample Point\", \"Method\"]).agg([\"mean\", \"std\"])\n",
    "TotalProt = TotalProt.droplevel(0,axis=1)\n",
    "TotalProt.reset_index(inplace=True)\n",
    "TotalProt[\"Name\"] = \"Protein-\" + TotalProt[\"Method\"]\n",
    "TotalProt[\"Macrocomponent\"] = \"Protein\"\n",
    "\n",
    "TotalProt.rename(columns={\"mean\":\"Value\", \"std\":\"SD\"}, inplace=True)\n",
    "AllMeasurements = pd.concat([AllMeasurements,\n",
    "                                        TotalProt])"
   ]
  },
  {
   "cell_type": "markdown",
   "metadata": {},
   "source": [
    "#### 5. b) Total DNA"
   ]
  },
  {
   "cell_type": "code",
   "execution_count": 25,
   "metadata": {
    "execution": {
     "iopub.execute_input": "2023-09-01T16:00:50.244645Z",
     "iopub.status.busy": "2023-09-01T16:00:50.244166Z",
     "iopub.status.idle": "2023-09-01T16:00:50.257385Z",
     "shell.execute_reply": "2023-09-01T16:00:50.256883Z"
    }
   },
   "outputs": [],
   "source": [
    "DNAComp = pd.read_csv(f\"../data/biomass/measured/DNAComp.csv\")\n",
    "DNAComp = DNAComp[DNAComp[\"Variable\"] == \"Mean\"]\n",
    "DNAComp[[\"Cultivation\",\"Sample Point\"]] = DNAComp.Sample.str.split(\"_\", expand=True)\n",
    "\n",
    "DNAComp[\"Cultivation Group\"] = DNAComp[\"Cultivation\"].apply(lambda x: cul_grp_dict.get(x))\n",
    "DNAComp.drop(columns=['Sample', 'Variable', 'Cultivation'], inplace=True)\n",
    "DNAComp = DNAComp.groupby([\"Cultivation Group\", \"Sample Point\"]).agg([\"mean\", \"std\"])\n",
    "\n",
    "\n",
    "DNAComp = DNAComp.droplevel(0, axis=1)\n",
    "\n",
    "DNAComp.reset_index(inplace=True)\n",
    "DNAComp.rename(columns={\"level_2\":\"Name\", \"mean\":\"Value\", \"std\":\"SD\"}, inplace=True)\n",
    "DNAComp[\"Name\"] = \"DNA\"\n",
    "DNAComp[\"Macrocomponent\"] = \"DNA\"\n",
    "DNAComp[\"Method\"] = \"Total DNA\"\n",
    "\n",
    "AllMeasurements = pd.concat([AllMeasurements,\n",
    "                                        DNAComp])"
   ]
  },
  {
   "cell_type": "markdown",
   "metadata": {},
   "source": [
    "#### 5. c) Total RNA"
   ]
  },
  {
   "cell_type": "code",
   "execution_count": 26,
   "metadata": {
    "execution": {
     "iopub.execute_input": "2023-09-01T16:00:50.259981Z",
     "iopub.status.busy": "2023-09-01T16:00:50.259466Z",
     "iopub.status.idle": "2023-09-01T16:00:50.273429Z",
     "shell.execute_reply": "2023-09-01T16:00:50.272924Z"
    }
   },
   "outputs": [],
   "source": [
    "RNAComp = pd.read_csv(f\"../data/biomass/measured/RNAComp.csv\")\n",
    "RNAComp = RNAComp[RNAComp[\"Variable\"] == \"Mean\"]\n",
    "RNAComp[[\"Cultivation\",\"Sample Point\"]] = RNAComp.Sample.str.split(\"_\", expand=True)\n",
    "\n",
    "RNAComp[\"Cultivation Group\"] = RNAComp[\"Cultivation\"].apply(lambda x: cul_grp_dict.get(x))\n",
    "RNAComp.drop(columns=['Sample', 'Variable', 'Cultivation'], inplace=True)\n",
    "RNAComp = RNAComp.groupby([\"Cultivation Group\", \"Sample Point\"]).agg([\"mean\", \"std\"])\n",
    "\n",
    "\n",
    "RNAComp = RNAComp.droplevel(0, axis=1)\n",
    "\n",
    "RNAComp.reset_index(inplace=True)\n",
    "RNAComp.rename(columns={\"level_2\":\"Name\", \"mean\":\"Value\", \"std\":\"SD\"}, inplace=True)\n",
    "RNAComp[\"Name\"] = \"RNA\"\n",
    "RNAComp[\"Macrocomponent\"] = \"RNA\"\n",
    "RNAComp[\"Method\"] = \"Total RNA\"\n",
    "\n",
    "AllMeasurements = pd.concat([AllMeasurements,\n",
    "                                        RNAComp]) "
   ]
  },
  {
   "cell_type": "markdown",
   "metadata": {
    "execution": {
     "iopub.execute_input": "2022-10-05T12:37:53.439688Z",
     "iopub.status.busy": "2022-10-05T12:37:53.439479Z",
     "iopub.status.idle": "2022-10-05T12:37:53.446751Z",
     "shell.execute_reply": "2022-10-05T12:37:53.446326Z"
    }
   },
   "source": [
    "## 6. Bring all data together and export\n"
   ]
  },
  {
   "cell_type": "code",
   "execution_count": 27,
   "metadata": {
    "execution": {
     "iopub.execute_input": "2023-09-01T16:00:50.275702Z",
     "iopub.status.busy": "2023-09-01T16:00:50.275581Z",
     "iopub.status.idle": "2023-09-01T16:00:50.301363Z",
     "shell.execute_reply": "2023-09-01T16:00:50.300811Z"
    }
   },
   "outputs": [],
   "source": [
    "AllMeasurements[\"Cultivation\"] = AllMeasurements[\"Cultivation Group\"] + \"_\" + AllMeasurements[\"Sample Point\"]\n",
    "AllMeasurements.drop(columns=[\"Cultivation Group\", \"Sample Point\"], inplace=True)\n",
    "\n",
    "protein = AllMeasurements[AllMeasurements.Name == \"Protein-AA_Sum\"].copy()\n",
    "protein[\"Name\"] = \"Protein\"\n",
    "\n",
    "AllMeasurements = AllMeasurements[~(AllMeasurements.Macrocomponent == \"Protein\")]\n",
    "AllMeasurements = pd.concat([AllMeasurements, protein])\n",
    "AllMeasurements.sort_index(inplace=True)\n",
    "MeasurementsLong = AllMeasurements.reset_index().melt(id_vars=[\"Cultivation\", \"Name\"], \n",
    "                   value_vars=[\"Value\",\"SD\"],value_name=\"g/g CDW\")\n",
    "\n",
    "MeasurementsLong.set_index([\"Cultivation\", \"Name\", \"variable\"],inplace=True)\n",
    "MeasurementsLong.to_csv(\"../results/dataframes/biomass/MeasurementsLong.csv\")\n",
    "\n",
    "VariableStoichMeasurements.to_csv(\"../results/dataframes/biomass/VariableStoichMeasurements.csv\")\n",
    "\n",
    "AllStaticComponents.set_index(\"Name\", inplace=True)\n",
    "\n",
    "mols = pd.concat([mols, AllStaticComponents[~AllStaticComponents.index.isin(mols.index)]])\n",
    "mols.drop(columns=[\"Core Formula\", \"Core Formula Mass\"], inplace=True)\n",
    "mols[\"Average Mass\"] = mols.apply(lambda row: AllMets[row.name].mass, axis=1)\n",
    "emm = pd.read_csv(f\"../data/ExtraMetsModel.csv\", index_col=0)\n",
    "mols.loc[emm.index,\"Model ID\"] = emm[\"Model ID\"]\n",
    "mols.to_csv(\"../results/dataframes/biomass/AllMolswFormula.csv\")"
   ]
  }
 ],
 "metadata": {
  "kernelspec": {
   "display_name": "MeMo 3.7",
   "language": "python",
   "name": "memo37"
  },
  "language_info": {
   "codemirror_mode": {
    "name": "ipython",
    "version": 3
   },
   "file_extension": ".py",
   "mimetype": "text/x-python",
   "name": "python",
   "nbconvert_exporter": "python",
   "pygments_lexer": "ipython3",
   "version": "3.7.11"
  }
 },
 "nbformat": 4,
 "nbformat_minor": 4
}
